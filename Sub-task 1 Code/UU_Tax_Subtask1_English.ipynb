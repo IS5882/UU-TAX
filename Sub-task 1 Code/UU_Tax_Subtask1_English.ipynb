{
  "metadata": {
    "kernelspec": {
      "language": "python",
      "display_name": "Python 3",
      "name": "python3"
    },
    "language_info": {
      "name": "python",
      "version": "3.7.12",
      "mimetype": "text/x-python",
      "codemirror_mode": {
        "name": "ipython",
        "version": 3
      },
      "pygments_lexer": "ipython3",
      "nbconvert_exporter": "python",
      "file_extension": ".py"
    },
    "colab": {
      "name": "UU-Tax: Subtask1_English.ipynb",
      "provenance": [],
      "include_colab_link": true
    }
  },
  "nbformat_minor": 0,
  "nbformat": 4,
  "cells": [
    {
      "cell_type": "markdown",
      "metadata": {
        "id": "view-in-github",
        "colab_type": "text"
      },
      "source": [
        "<a href=\"https://colab.research.google.com/github/IS5882/UU-TAX/blob/main/Sub-task%201%20Code/UU_Tax_Subtask1_English.ipynb\" target=\"_parent\"><img src=\"https://colab.research.google.com/assets/colab-badge.svg\" alt=\"Open In Colab\"/></a>"
      ]
    },
    {
      "cell_type": "code",
      "source": [
        "!pip install openpyxl\n",
        "import re\n",
        "import nltk\n",
        "from sklearn import feature_extraction, model_selection, naive_bayes, pipeline, manifold, preprocessing\n",
        "import os\n",
        "import gc\n",
        "import gensim\n",
        "\n",
        "import numpy as np\n",
        "import pandas as pd \n",
        "from tqdm import tqdm\n",
        "from sklearn.linear_model import LogisticRegression\n",
        "## for word embedding\n",
        "import gensim\n",
        "import gensim.downloader as gensim_api\n",
        "## for deep learning\n",
        "from tensorflow.keras import models, layers, preprocessing as kprocessing\n",
        "from tensorflow.keras import backend as K\n",
        "## for bert language model\n",
        "!pip install transformers\n",
        "import transformers\n",
        "from sklearn.metrics import f1_score, accuracy_score, recall_score, precision_score\n",
        "from sklearn.model_selection import train_test_split\n",
        "\n",
        "\n",
        "# install simpletransformers\n",
        "!pip install simpletransformers\n",
        "\n",
        "# check installed version\n",
        "!pip freeze | grep simpletransformers\n",
        "# simpletransformers==0.28.2\n",
        "\n",
        "##0.1] Training are first 2 folds test is 3rd Fold\n",
        "\n",
        "import base64\n",
        "import requests\n",
        "import pandas as pd\n",
        "import os\n",
        "import nltk\n"
      ],
      "metadata": {
        "id": "N-6La-HfKuhe",
        "execution": {
          "iopub.status.busy": "2022-02-16T11:44:40.058885Z",
          "iopub.execute_input": "2022-02-16T11:44:40.059311Z",
          "iopub.status.idle": "2022-02-16T11:45:23.247464Z",
          "shell.execute_reply.started": "2022-02-16T11:44:40.059138Z",
          "shell.execute_reply": "2022-02-16T11:45:23.246132Z"
        },
        "trusted": true
      },
      "execution_count": null,
      "outputs": []
    },
    {
      "cell_type": "code",
      "source": [
        "import base64\n",
        "import requests\n",
        "import pandas as pd\n",
        "import os\n",
        "import nltk\n",
        "\n",
        "##0.2] Load pretrained model\n",
        "\n",
        "from simpletransformers.classification import ClassificationModel\n",
        "import logging\n",
        "\n",
        "logging.basicConfig(level=logging.INFO)\n",
        "transformers_logger = logging.getLogger(\"transformers\")\n",
        "transformers_logger.setLevel(logging.WARNING)\n",
        "# define hyperparameter\n",
        "'''\n",
        "\"use_multiprocessing\":False,\n",
        "\"use_multiprocessing_for_evaluation\":False,\n",
        "Those 2 were added for the 0% red bar thing\n",
        "'''\n",
        "train_args ={\"reprocess_input_data\": True,\n",
        "             \"use_multiprocessing\":False,\n",
        "             \"use_multiprocessing_for_evaluation\":False,\n",
        "             \"overwrite_output_dir\": True,\n",
        "             \"fp16\":False,\n",
        "             \"num_train_epochs\": 4} \n",
        "\n",
        "# Create a ClassificationModel\n",
        "model_en = ClassificationModel(\n",
        "    \"electra\",\n",
        "    \"google/electra-base-discriminator\",\n",
        "    args=train_args\n",
        ")\n",
        "\n"
      ],
      "metadata": {
        "id": "PBmyah_nKuhg",
        "execution": {
          "iopub.status.busy": "2022-02-16T11:45:23.256617Z",
          "iopub.execute_input": "2022-02-16T11:45:23.257041Z",
          "iopub.status.idle": "2022-02-16T11:45:43.848363Z",
          "shell.execute_reply.started": "2022-02-16T11:45:23.256999Z",
          "shell.execute_reply": "2022-02-16T11:45:43.847613Z"
        },
        "trusted": true
      },
      "execution_count": null,
      "outputs": []
    },
    {
      "cell_type": "markdown",
      "source": [
        "# Read Test"
      ],
      "metadata": {
        "id": "gjR3JPEzKuhj"
      }
    },
    {
      "cell_type": "code",
      "source": [
        "import base64\n",
        "import requests\n",
        "import pandas as pd\n",
        "df_en_test = pd.read_csv('https://raw.githubusercontent.com/shammur/SemEval2022Task3/main/data/test/official_test_set_with_labels/subtask-1/En-Subtask1-labels.tsv', sep='\\t')\n",
        "\n",
        "df_en_test=df_en_test.set_index('ID')\n",
        "del df_en_test['Construction']\n",
        "df_en_test"
      ],
      "metadata": {
        "id": "C1kXJECsKuhk",
        "execution": {
          "iopub.status.busy": "2022-02-16T11:46:21.301583Z",
          "iopub.execute_input": "2022-02-16T11:46:21.301917Z",
          "iopub.status.idle": "2022-02-16T11:46:21.474223Z",
          "shell.execute_reply.started": "2022-02-16T11:46:21.301878Z",
          "shell.execute_reply": "2022-02-16T11:46:21.471872Z"
        },
        "trusted": true
      },
      "execution_count": null,
      "outputs": []
    },
    {
      "cell_type": "markdown",
      "source": [
        "# Read Train"
      ],
      "metadata": {
        "id": "qGZJtRMXKuhl"
      }
    },
    {
      "cell_type": "code",
      "source": [
        "data_url = 'https://raw.githubusercontent.com/shammur/SemEval2022Task3/main/data/train/train_subtask-1/en/'\n",
        "folds = [pd.read_csv(os.path.join(data_url, 'En-Subtask1-fold_{}.tsv'.format(i)), sep='\\t') \\\n",
        "         for i in range(3)]\n",
        "df_en = pd.concat(folds[0:3]) \n",
        "df_en=df_en.set_index('ID')\n",
        "\n",
        "df_en"
      ],
      "metadata": {
        "id": "D2JThgEWKuhl",
        "execution": {
          "iopub.status.busy": "2022-02-16T11:49:18.000887Z",
          "iopub.execute_input": "2022-02-16T11:49:18.001483Z",
          "iopub.status.idle": "2022-02-16T11:49:18.546372Z",
          "shell.execute_reply.started": "2022-02-16T11:49:18.001444Z",
          "shell.execute_reply": "2022-02-16T11:49:18.545687Z"
        },
        "trusted": true
      },
      "execution_count": null,
      "outputs": []
    },
    {
      "cell_type": "markdown",
      "source": [
        "## Read BT"
      ],
      "metadata": {
        "id": "3wNpwrVyKuhm"
      }
    },
    {
      "cell_type": "code",
      "source": [
        "df_backtrans=pd.read_excel(r'../input/backtranslationv2/df_backtrans_v2.xlsx',index_col=0)\n",
        "df_backtrans[['ID']] = df_backtrans[['ID']].astype(int)\n",
        "df_backtrans[['Labels']] = df_backtrans[['Labels']].astype(int)\n",
        "df_backtrans=df_backtrans.set_index(['ID'])\n",
        "\n",
        "df_backtrans\n"
      ],
      "metadata": {
        "id": "Gn3SEEgNKuhn",
        "execution": {
          "iopub.status.busy": "2022-02-16T11:49:23.082844Z",
          "iopub.execute_input": "2022-02-16T11:49:23.083545Z",
          "iopub.status.idle": "2022-02-16T11:49:24.911461Z",
          "shell.execute_reply.started": "2022-02-16T11:49:23.083509Z",
          "shell.execute_reply": "2022-02-16T11:49:24.910515Z"
        },
        "trusted": true
      },
      "execution_count": null,
      "outputs": []
    },
    {
      "cell_type": "code",
      "source": [
        "df_it_train = df_backtrans[[\"IT-EN\",\"Labels\"]]\n",
        "df_it_train=df_it_train.rename(columns={\"IT-EN\": \"Sentence\"})\n",
        "df_it_train\n"
      ],
      "metadata": {
        "id": "dz9lcaqYKuho",
        "execution": {
          "iopub.status.busy": "2022-02-16T11:49:30.537541Z",
          "iopub.execute_input": "2022-02-16T11:49:30.537813Z",
          "iopub.status.idle": "2022-02-16T11:49:30.554870Z",
          "shell.execute_reply.started": "2022-02-16T11:49:30.537769Z",
          "shell.execute_reply": "2022-02-16T11:49:30.554241Z"
        },
        "trusted": true
      },
      "execution_count": null,
      "outputs": []
    },
    {
      "cell_type": "code",
      "source": [
        "df_fr_train = df_backtrans[[\"FR-EN\",\"Labels\"]]\n",
        "df_fr_train=df_fr_train.rename(columns={\"FR-EN\": \"Sentence\"})\n",
        "df_fr_train"
      ],
      "metadata": {
        "id": "yg4naqk3Kuho",
        "execution": {
          "iopub.status.busy": "2022-02-16T11:49:33.288198Z",
          "iopub.execute_input": "2022-02-16T11:49:33.288459Z",
          "iopub.status.idle": "2022-02-16T11:49:33.301155Z",
          "shell.execute_reply.started": "2022-02-16T11:49:33.288430Z",
          "shell.execute_reply": "2022-02-16T11:49:33.300390Z"
        },
        "trusted": true
      },
      "execution_count": null,
      "outputs": []
    },
    {
      "cell_type": "code",
      "source": [
        "df_bt_it_fr=pd.concat([df_it_train,df_fr_train])\n",
        "df_bt_it_fr"
      ],
      "metadata": {
        "id": "Z909kMErKuhp",
        "execution": {
          "iopub.status.busy": "2022-02-16T11:49:35.731969Z",
          "iopub.execute_input": "2022-02-16T11:49:35.732556Z",
          "iopub.status.idle": "2022-02-16T11:49:35.745866Z",
          "shell.execute_reply.started": "2022-02-16T11:49:35.732519Z",
          "shell.execute_reply": "2022-02-16T11:49:35.744966Z"
        },
        "trusted": true
      },
      "execution_count": null,
      "outputs": []
    },
    {
      "cell_type": "markdown",
      "source": [
        "# **NLP Aug**"
      ],
      "metadata": {
        "id": "XTjDabucKuhq"
      }
    },
    {
      "cell_type": "code",
      "source": [
        "df_insert=pd.read_excel(r'../input/nlpaug/train_aug_ins.xlsx',index_col=0)\n",
        "df_insert"
      ],
      "metadata": {
        "id": "pKKQ_NkWKuhs",
        "execution": {
          "iopub.status.busy": "2022-02-16T11:49:38.220893Z",
          "iopub.execute_input": "2022-02-16T11:49:38.223019Z",
          "iopub.status.idle": "2022-02-16T11:49:39.368281Z",
          "shell.execute_reply.started": "2022-02-16T11:49:38.222976Z",
          "shell.execute_reply": "2022-02-16T11:49:39.367584Z"
        },
        "trusted": true
      },
      "execution_count": null,
      "outputs": []
    },
    {
      "cell_type": "code",
      "source": [
        "df_sub=pd.read_excel(r'../input/nlpaug/train_aug_sub.xlsx',index_col=0)\n",
        "df_sub"
      ],
      "metadata": {
        "id": "0PCEOgaqKuht",
        "execution": {
          "iopub.status.busy": "2022-02-16T11:49:47.674434Z",
          "iopub.execute_input": "2022-02-16T11:49:47.674695Z",
          "iopub.status.idle": "2022-02-16T11:49:48.111592Z",
          "shell.execute_reply.started": "2022-02-16T11:49:47.674666Z",
          "shell.execute_reply": "2022-02-16T11:49:48.110942Z"
        },
        "trusted": true
      },
      "execution_count": null,
      "outputs": []
    },
    {
      "cell_type": "markdown",
      "source": [
        "# Stage1: Train on NLP aug"
      ],
      "metadata": {
        "id": "-N81sXVIKuht"
      }
    },
    {
      "cell_type": "code",
      "source": [
        "df_nlp_auf=pd.concat([df_insert,df_sub])\n",
        "df_nlp_auf"
      ],
      "metadata": {
        "id": "R4c0HZ_mKuhu",
        "execution": {
          "iopub.status.busy": "2022-02-16T11:50:02.566091Z",
          "iopub.execute_input": "2022-02-16T11:50:02.566907Z",
          "iopub.status.idle": "2022-02-16T11:50:02.581551Z",
          "shell.execute_reply.started": "2022-02-16T11:50:02.566856Z",
          "shell.execute_reply": "2022-02-16T11:50:02.580866Z"
        },
        "trusted": true
      },
      "execution_count": null,
      "outputs": []
    },
    {
      "cell_type": "code",
      "source": [
        "df_nlp_bt=pd.concat([df_bt_it_fr,df_nlp_auf])\n",
        "df_nlp_bt"
      ],
      "metadata": {
        "id": "ldx63qCmKuhu",
        "execution": {
          "iopub.status.busy": "2022-02-16T11:50:08.840117Z",
          "iopub.execute_input": "2022-02-16T11:50:08.840763Z",
          "iopub.status.idle": "2022-02-16T11:50:08.855112Z",
          "shell.execute_reply.started": "2022-02-16T11:50:08.840727Z",
          "shell.execute_reply": "2022-02-16T11:50:08.854138Z"
        },
        "trusted": true
      },
      "execution_count": null,
      "outputs": []
    },
    {
      "cell_type": "code",
      "source": [
        "# Train the model\n",
        "model_en.train_model(df_nlp_auf, learning_rate=3e-5)"
      ],
      "metadata": {
        "id": "u32dxZ4YKuhu",
        "execution": {
          "iopub.status.busy": "2022-02-16T11:50:14.151361Z",
          "iopub.execute_input": "2022-02-16T11:50:14.151864Z",
          "iopub.status.idle": "2022-02-16T12:09:11.788488Z",
          "shell.execute_reply.started": "2022-02-16T11:50:14.151822Z",
          "shell.execute_reply": "2022-02-16T12:09:11.787732Z"
        },
        "trusted": true
      },
      "execution_count": null,
      "outputs": []
    },
    {
      "cell_type": "code",
      "source": [
        "result, model_outputs, wrong_predictions = model_en.eval_model(df_en_test, f1=f1_score, r=recall_score, p=precision_score)\n",
        "\n",
        "result"
      ],
      "metadata": {
        "id": "zxhrku0ZKuhv",
        "execution": {
          "iopub.status.busy": "2022-02-16T12:27:54.738534Z",
          "iopub.execute_input": "2022-02-16T12:27:54.738818Z",
          "iopub.status.idle": "2022-02-16T12:29:01.826494Z",
          "shell.execute_reply.started": "2022-02-16T12:27:54.738773Z",
          "shell.execute_reply": "2022-02-16T12:29:01.825836Z"
        },
        "trusted": true
      },
      "execution_count": null,
      "outputs": []
    },
    {
      "cell_type": "markdown",
      "source": [
        "### Printing results after 1st stage"
      ],
      "metadata": {
        "id": "sAWg-81LpnYF"
      }
    },
    {
      "cell_type": "code",
      "source": [
        "from sklearn.metrics import confusion_matrix, precision_recall_fscore_support\n",
        "\n",
        "y_dev_pred = [int(el[1] > el[0]) for el in model_outputs]\n",
        "\n",
        "\n",
        "precision_recall_fscore_support(df_en_test['Labels'],y_dev_pred , average='macro')"
      ],
      "metadata": {
        "id": "rQI5Q2myKuhw",
        "execution": {
          "iopub.status.busy": "2022-02-16T12:36:29.054541Z",
          "iopub.execute_input": "2022-02-16T12:36:29.055082Z",
          "iopub.status.idle": "2022-02-16T12:36:29.094479Z",
          "shell.execute_reply.started": "2022-02-16T12:36:29.055044Z",
          "shell.execute_reply": "2022-02-16T12:36:29.093754Z"
        },
        "trusted": true
      },
      "execution_count": null,
      "outputs": []
    },
    {
      "cell_type": "code",
      "source": [
        "precision_recall_fscore_support(df_en_test['Labels'],y_dev_pred , average='binary')"
      ],
      "metadata": {
        "id": "FTLZz7vEKuhw",
        "execution": {
          "iopub.status.busy": "2022-02-16T12:36:34.797309Z",
          "iopub.execute_input": "2022-02-16T12:36:34.797589Z",
          "iopub.status.idle": "2022-02-16T12:36:34.821428Z",
          "shell.execute_reply.started": "2022-02-16T12:36:34.797556Z",
          "shell.execute_reply": "2022-02-16T12:36:34.820638Z"
        },
        "trusted": true
      },
      "execution_count": null,
      "outputs": []
    },
    {
      "cell_type": "code",
      "source": [
        "len(model_outputs)"
      ],
      "metadata": {
        "id": "OQPETD9jKuhx",
        "execution": {
          "iopub.status.busy": "2022-02-16T12:36:36.680135Z",
          "iopub.execute_input": "2022-02-16T12:36:36.680767Z",
          "iopub.status.idle": "2022-02-16T12:36:36.686511Z",
          "shell.execute_reply.started": "2022-02-16T12:36:36.680722Z",
          "shell.execute_reply": "2022-02-16T12:36:36.685678Z"
        },
        "trusted": true
      },
      "execution_count": null,
      "outputs": []
    },
    {
      "cell_type": "markdown",
      "source": [
        "# 2nd Stage: Train on original training set+ Translation"
      ],
      "metadata": {
        "id": "YmAtSUagKuhx"
      }
    },
    {
      "cell_type": "code",
      "source": [
        "df_all_train_bt=pd.concat([df_en,df_it_train,df_fr_train])\n",
        "df_all_train_bt"
      ],
      "metadata": {
        "id": "S4F5kcUxKuhx",
        "execution": {
          "iopub.status.busy": "2022-02-16T12:36:54.680358Z",
          "iopub.execute_input": "2022-02-16T12:36:54.680682Z",
          "iopub.status.idle": "2022-02-16T12:36:54.697636Z",
          "shell.execute_reply.started": "2022-02-16T12:36:54.680651Z",
          "shell.execute_reply": "2022-02-16T12:36:54.697008Z"
        },
        "trusted": true
      },
      "execution_count": null,
      "outputs": []
    },
    {
      "cell_type": "code",
      "source": [
        "df_all_train_bt=df_all_train_bt.drop_duplicates(subset='Sentence')\n",
        "df_all_train_bt"
      ],
      "metadata": {
        "id": "dr3ee8aEKuhy",
        "execution": {
          "iopub.status.busy": "2022-02-16T12:36:54.699004Z",
          "iopub.execute_input": "2022-02-16T12:36:54.699597Z",
          "iopub.status.idle": "2022-02-16T12:36:54.721434Z",
          "shell.execute_reply.started": "2022-02-16T12:36:54.699561Z",
          "shell.execute_reply": "2022-02-16T12:36:54.720687Z"
        },
        "trusted": true
      },
      "execution_count": null,
      "outputs": []
    },
    {
      "cell_type": "code",
      "source": [
        "model_en.train_model(df_all_train_bt, learning_rate=4e-5)"
      ],
      "metadata": {
        "id": "J9B7pmIjKuhy",
        "execution": {
          "iopub.status.busy": "2022-02-16T12:36:54.722452Z",
          "iopub.execute_input": "2022-02-16T12:36:54.723078Z",
          "iopub.status.idle": "2022-02-16T12:55:53.096385Z",
          "shell.execute_reply.started": "2022-02-16T12:36:54.723044Z",
          "shell.execute_reply": "2022-02-16T12:55:53.095657Z"
        },
        "trusted": true
      },
      "execution_count": null,
      "outputs": []
    },
    {
      "cell_type": "code",
      "source": [
        "result2, model_outputs2, wrong_predictions2 = model_en.eval_model(df_en_test, f1=f1_score, r=recall_score, p=precision_score)\n",
        "\n",
        "result2"
      ],
      "metadata": {
        "id": "S-Kn6QTlKuhy",
        "execution": {
          "iopub.status.busy": "2022-02-16T12:55:53.098241Z",
          "iopub.execute_input": "2022-02-16T12:55:53.098907Z",
          "iopub.status.idle": "2022-02-16T12:57:00.775034Z",
          "shell.execute_reply.started": "2022-02-16T12:55:53.098867Z",
          "shell.execute_reply": "2022-02-16T12:57:00.774146Z"
        },
        "trusted": true
      },
      "execution_count": null,
      "outputs": []
    },
    {
      "cell_type": "code",
      "source": [
        "y_dev_pred = [int(el[1] > el[0]) for el in model_outputs2]\n",
        "\n",
        "precision_recall_fscore_support(df_en_test['Labels'],y_dev_pred , average='macro')"
      ],
      "metadata": {
        "id": "APNU9Ki1Kuhz",
        "execution": {
          "iopub.status.busy": "2022-02-16T12:57:00.777192Z",
          "iopub.execute_input": "2022-02-16T12:57:00.777507Z",
          "iopub.status.idle": "2022-02-16T12:57:00.814539Z",
          "shell.execute_reply.started": "2022-02-16T12:57:00.777470Z",
          "shell.execute_reply": "2022-02-16T12:57:00.813654Z"
        },
        "trusted": true
      },
      "execution_count": null,
      "outputs": []
    },
    {
      "cell_type": "code",
      "source": [
        "precision_recall_fscore_support(df_en_test['Labels'],y_dev_pred , average='binary')"
      ],
      "metadata": {
        "id": "Ps_nAw_EKuhz",
        "execution": {
          "iopub.status.busy": "2022-02-16T12:57:00.816770Z",
          "iopub.execute_input": "2022-02-16T12:57:00.817162Z",
          "iopub.status.idle": "2022-02-16T12:57:00.839670Z",
          "shell.execute_reply.started": "2022-02-16T12:57:00.817126Z",
          "shell.execute_reply": "2022-02-16T12:57:00.838789Z"
        },
        "trusted": true
      },
      "execution_count": null,
      "outputs": []
    },
    {
      "cell_type": "code",
      "source": [
        "df_en_test[(df_en_test['Labels'] == 1) & (y_dev_pred == 1)]\n",
        "df_en_testWrong2=df_en_test[(df_en_test['Labels'] != y_dev_pred)]\n"
      ],
      "metadata": {
        "id": "FEDuIJWhKuhz",
        "execution": {
          "iopub.status.busy": "2022-02-16T13:07:05.462671Z",
          "iopub.execute_input": "2022-02-16T13:07:05.463360Z",
          "iopub.status.idle": "2022-02-16T13:07:05.472442Z",
          "shell.execute_reply.started": "2022-02-16T13:07:05.463321Z",
          "shell.execute_reply": "2022-02-16T13:07:05.471544Z"
        },
        "trusted": true
      },
      "execution_count": null,
      "outputs": []
    },
    {
      "cell_type": "markdown",
      "source": [
        "# test output"
      ],
      "metadata": {
        "id": "qZBz--n9Kuh0"
      }
    },
    {
      "cell_type": "code",
      "source": [
        "result2, model_outputs2, wrong_predictions2 = model_en.eval_model(df_en_test, f1=f1_score, r=recall_score, p=precision_score)"
      ],
      "metadata": {
        "id": "RmPmtm0_Kuh0",
        "execution": {
          "iopub.status.busy": "2022-02-16T12:57:01.118705Z",
          "iopub.execute_input": "2022-02-16T12:57:01.118949Z",
          "iopub.status.idle": "2022-02-16T12:58:08.281954Z",
          "shell.execute_reply.started": "2022-02-16T12:57:01.118924Z",
          "shell.execute_reply": "2022-02-16T12:58:08.281216Z"
        },
        "trusted": true
      },
      "execution_count": null,
      "outputs": []
    },
    {
      "cell_type": "code",
      "source": [
        "result2"
      ],
      "metadata": {
        "execution": {
          "iopub.status.busy": "2022-02-16T13:07:33.669830Z",
          "iopub.execute_input": "2022-02-16T13:07:33.670367Z",
          "iopub.status.idle": "2022-02-16T13:07:33.675740Z",
          "shell.execute_reply.started": "2022-02-16T13:07:33.670331Z",
          "shell.execute_reply": "2022-02-16T13:07:33.675024Z"
        },
        "trusted": true,
        "id": "Q8RYTDiupnYH"
      },
      "execution_count": null,
      "outputs": []
    },
    {
      "cell_type": "code",
      "source": [
        "y_dev_pred_real = [int(el[1] > el[0]) for el in model_outputs2]\n",
        "df_en_test['Labels']=y_dev_pred_real\n",
        "df_en_test"
      ],
      "metadata": {
        "id": "onj6LPZWKuh1",
        "execution": {
          "iopub.status.busy": "2022-02-16T13:07:17.249366Z",
          "iopub.execute_input": "2022-02-16T13:07:17.249611Z",
          "iopub.status.idle": "2022-02-16T13:07:17.281975Z",
          "shell.execute_reply.started": "2022-02-16T13:07:17.249584Z",
          "shell.execute_reply": "2022-02-16T13:07:17.281311Z"
        },
        "trusted": true
      },
      "execution_count": null,
      "outputs": []
    },
    {
      "cell_type": "code",
      "source": [
        "results_tsv_real=df_en_test_real.to_csv('answer_with_sent_aug1.tsv', sep=\"\\t\")"
      ],
      "metadata": {
        "id": "in0rroBxKuh1",
        "execution": {
          "iopub.status.busy": "2022-02-16T12:58:08.328867Z",
          "iopub.status.idle": "2022-02-16T12:58:08.329471Z",
          "shell.execute_reply.started": "2022-02-16T12:58:08.329199Z",
          "shell.execute_reply": "2022-02-16T12:58:08.329223Z"
        },
        "trusted": true
      },
      "execution_count": null,
      "outputs": []
    }
  ]
}