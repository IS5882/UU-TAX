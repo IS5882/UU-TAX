{
  "metadata": {
    "kernelspec": {
      "language": "python",
      "display_name": "Python 3",
      "name": "python3"
    },
    "language_info": {
      "name": "python",
      "version": "3.7.12",
      "mimetype": "text/x-python",
      "codemirror_mode": {
        "name": "ipython",
        "version": 3
      },
      "pygments_lexer": "ipython3",
      "nbconvert_exporter": "python",
      "file_extension": ".py"
    },
    "colab": {
      "name": "UU_Tax_Subtask1_French.ipynb",
      "provenance": [],
      "include_colab_link": true
    }
  },
  "nbformat_minor": 0,
  "nbformat": 4,
  "cells": [
    {
      "cell_type": "markdown",
      "metadata": {
        "id": "view-in-github",
        "colab_type": "text"
      },
      "source": [
        "<a href=\"https://colab.research.google.com/github/IS5882/UU-TAX/blob/main/Sub-task%201%20Code/UU_Tax_Subtask1_French.ipynb\" target=\"_parent\"><img src=\"https://colab.research.google.com/assets/colab-badge.svg\" alt=\"Open In Colab\"/></a>"
      ]
    },
    {
      "cell_type": "markdown",
      "source": [
        "# 0] Imports and reading all data in DFs"
      ],
      "metadata": {
        "id": "sVl0pxkwPpMr"
      }
    },
    {
      "cell_type": "code",
      "source": [
        "!pip install openpyxl\n",
        "\n",
        "import re\n",
        "import nltk\n",
        "## for bag-of-words\n",
        "from sklearn import feature_extraction, model_selection, naive_bayes, pipeline, manifold, preprocessing\n",
        "import os\n",
        "import gc\n",
        "import gensim\n",
        "import base64\n",
        "import requests\n",
        "import pandas as pd\n",
        "import os\n",
        "import nltk\n",
        "\n",
        "from sklearn.model_selection import train_test_split\n",
        "import numpy as np\n",
        "import pandas as pd \n",
        "from tqdm import tqdm\n",
        "from sklearn.linear_model import LogisticRegression\n",
        "## for word embedding\n",
        "import gensim\n",
        "import gensim.downloader as gensim_api\n",
        "## for deep learning\n",
        "from tensorflow.keras import models, layers, preprocessing as kprocessing\n",
        "from tensorflow.keras import backend as K\n",
        "## for bert language model\n",
        "!pip install transformers\n",
        "import transformers\n",
        "import nltk\n",
        "nltk.download('wordnet')"
      ],
      "metadata": {
        "id": "JsxpRU4ASwLO",
        "execution": {
          "iopub.status.busy": "2022-02-16T18:26:28.773649Z",
          "iopub.execute_input": "2022-02-16T18:26:28.773985Z",
          "iopub.status.idle": "2022-02-16T18:26:53.578958Z",
          "shell.execute_reply.started": "2022-02-16T18:26:28.773878Z",
          "shell.execute_reply": "2022-02-16T18:26:53.578184Z"
        },
        "trusted": true
      },
      "execution_count": null,
      "outputs": []
    },
    {
      "cell_type": "code",
      "source": [
        "# install simpletransformers\n",
        "!pip install simpletransformers\n",
        "\n",
        "# check installed version\n",
        "!pip freeze | grep simpletransformers\n",
        "# simpletransformers==0.28.2"
      ],
      "metadata": {
        "id": "svum1ZL4dlHn",
        "execution": {
          "iopub.status.busy": "2022-02-16T18:26:53.580965Z",
          "iopub.execute_input": "2022-02-16T18:26:53.581499Z",
          "iopub.status.idle": "2022-02-16T18:27:12.531224Z",
          "shell.execute_reply.started": "2022-02-16T18:26:53.581457Z",
          "shell.execute_reply": "2022-02-16T18:27:12.530348Z"
        },
        "trusted": true
      },
      "execution_count": null,
      "outputs": []
    },
    {
      "cell_type": "markdown",
      "source": [
        "#  French"
      ],
      "metadata": {
        "id": "P2lTmdSmBN69"
      }
    },
    {
      "cell_type": "code",
      "source": [
        "df_backtrans=pd.read_excel(r'../input/backtranslation-subtask1/FR_BT.xlsx',index_col=0)\n",
        "df_backtrans"
      ],
      "metadata": {
        "execution": {
          "iopub.status.busy": "2022-02-16T18:27:12.535761Z",
          "iopub.execute_input": "2022-02-16T18:27:12.538088Z",
          "iopub.status.idle": "2022-02-16T18:27:14.279526Z",
          "shell.execute_reply.started": "2022-02-16T18:27:12.538043Z",
          "shell.execute_reply": "2022-02-16T18:27:14.278771Z"
        },
        "trusted": true,
        "id": "1Fa153sh7d84"
      },
      "execution_count": null,
      "outputs": []
    },
    {
      "cell_type": "code",
      "source": [
        "df_backtrans.index = df_backtrans.index.astype(int)\n",
        "df_backtrans[['Labels']] = df_backtrans[['Labels']].astype(int)"
      ],
      "metadata": {
        "execution": {
          "iopub.status.busy": "2022-02-16T18:27:14.281519Z",
          "iopub.execute_input": "2022-02-16T18:27:14.281787Z",
          "iopub.status.idle": "2022-02-16T18:27:14.289866Z",
          "shell.execute_reply.started": "2022-02-16T18:27:14.281751Z",
          "shell.execute_reply": "2022-02-16T18:27:14.288854Z"
        },
        "trusted": true,
        "id": "JegcjZCm7d85"
      },
      "execution_count": null,
      "outputs": []
    },
    {
      "cell_type": "code",
      "source": [
        "df_backtrans"
      ],
      "metadata": {
        "execution": {
          "iopub.status.busy": "2022-02-16T18:27:14.291001Z",
          "iopub.execute_input": "2022-02-16T18:27:14.291425Z",
          "iopub.status.idle": "2022-02-16T18:27:14.314677Z",
          "shell.execute_reply.started": "2022-02-16T18:27:14.291387Z",
          "shell.execute_reply": "2022-02-16T18:27:14.313932Z"
        },
        "trusted": true,
        "id": "xSblS51_7d85"
      },
      "execution_count": null,
      "outputs": []
    },
    {
      "cell_type": "code",
      "source": [
        "df_backtrans=df_backtrans.sort_values(['ID'])\n",
        "\n",
        "df_backtrans\n"
      ],
      "metadata": {
        "execution": {
          "iopub.status.busy": "2022-02-16T18:27:14.395019Z",
          "iopub.execute_input": "2022-02-16T18:27:14.395208Z",
          "iopub.status.idle": "2022-02-16T18:27:14.413153Z",
          "shell.execute_reply.started": "2022-02-16T18:27:14.395186Z",
          "shell.execute_reply": "2022-02-16T18:27:14.412425Z"
        },
        "trusted": true,
        "id": "g7I97Mdx7d85"
      },
      "execution_count": null,
      "outputs": []
    },
    {
      "cell_type": "markdown",
      "source": [
        "# 1] Load pretrained model"
      ],
      "metadata": {
        "id": "BDN9JE9wCZyN"
      }
    },
    {
      "cell_type": "code",
      "source": [
        "from simpletransformers.classification import ClassificationModel\n",
        "\n",
        "# define hyperparameter\n",
        "train_args ={\"reprocess_input_data\": True,\n",
        "             \"overwrite_output_dir\": True,\n",
        "             \"fp16\":False,\n",
        "             \"use_early_stopping\":True,\n",
        "             \"num_train_epochs\": 4}\n",
        "\n",
        "# Create a ClassificationModel\n",
        "model = ClassificationModel(\n",
        "        \n",
        "    \"electra\",\"dbmdz/electra-base-french-europeana-cased-discriminator\",\n",
        "    args=train_args\n",
        ")"
      ],
      "metadata": {
        "id": "4_bA4E83Cc-1",
        "execution": {
          "iopub.status.busy": "2022-02-16T18:27:17.927333Z",
          "iopub.execute_input": "2022-02-16T18:27:17.927875Z",
          "iopub.status.idle": "2022-02-16T18:27:56.637237Z",
          "shell.execute_reply.started": "2022-02-16T18:27:17.927837Z",
          "shell.execute_reply": "2022-02-16T18:27:56.636370Z"
        },
        "trusted": true
      },
      "execution_count": null,
      "outputs": []
    },
    {
      "cell_type": "markdown",
      "source": [
        "# Train model Stage 1 NLP aug"
      ],
      "metadata": {
        "id": "-Ym9Ptt57d86"
      }
    },
    {
      "cell_type": "code",
      "source": [
        "df_nlp_auf=pd.read_excel(r'../input/nlpaugfr/train_aug_subtask_fr.xlsx',index_col=0)\n",
        "df_nlp_auf"
      ],
      "metadata": {
        "execution": {
          "iopub.status.busy": "2022-02-16T18:27:56.639391Z",
          "iopub.execute_input": "2022-02-16T18:27:56.639654Z",
          "iopub.status.idle": "2022-02-16T18:27:57.549494Z",
          "shell.execute_reply.started": "2022-02-16T18:27:56.639618Z",
          "shell.execute_reply": "2022-02-16T18:27:57.548770Z"
        },
        "trusted": true,
        "id": "vNbyOOZr7d86"
      },
      "execution_count": null,
      "outputs": []
    },
    {
      "cell_type": "code",
      "source": [
        "model.train_model(df_nlp_auf, learning_rate=3e-5)"
      ],
      "metadata": {
        "execution": {
          "iopub.status.busy": "2022-02-16T18:27:57.550629Z",
          "iopub.execute_input": "2022-02-16T18:27:57.550877Z",
          "iopub.status.idle": "2022-02-16T18:40:35.260678Z",
          "shell.execute_reply.started": "2022-02-16T18:27:57.550842Z",
          "shell.execute_reply": "2022-02-16T18:40:35.259617Z"
        },
        "trusted": true,
        "id": "EtVX62lH7d86"
      },
      "execution_count": null,
      "outputs": []
    },
    {
      "cell_type": "markdown",
      "source": [
        "#  test after stage 1"
      ],
      "metadata": {
        "id": "hnPvItJZ7d86"
      }
    },
    {
      "cell_type": "markdown",
      "source": [
        "### Read Pablo test"
      ],
      "metadata": {
        "id": "POC2eoXv7d87"
      }
    },
    {
      "cell_type": "code",
      "source": [
        "df_test = pd.read_csv('https://raw.githubusercontent.com/shammur/SemEval2022Task3/main/data/test/official_test_set_with_labels/subtask-1/Fr-Subtask1-labels.tsv', sep='\\t')\n",
        "\n",
        "df_test=df_test.set_index('ID')\n",
        "del df_test['Construction']\n",
        "\n",
        "df_test"
      ],
      "metadata": {
        "execution": {
          "iopub.status.busy": "2022-02-16T18:40:54.610794Z",
          "iopub.execute_input": "2022-02-16T18:40:54.611636Z",
          "iopub.status.idle": "2022-02-16T18:40:54.799283Z",
          "shell.execute_reply.started": "2022-02-16T18:40:54.611598Z",
          "shell.execute_reply": "2022-02-16T18:40:54.798623Z"
        },
        "trusted": true,
        "id": "4Cv1ms-n7d87"
      },
      "execution_count": null,
      "outputs": []
    },
    {
      "cell_type": "code",
      "source": [
        "df_test"
      ],
      "metadata": {
        "execution": {
          "iopub.status.busy": "2022-02-16T18:40:59.199075Z",
          "iopub.execute_input": "2022-02-16T18:40:59.199636Z",
          "iopub.status.idle": "2022-02-16T18:40:59.210788Z",
          "shell.execute_reply.started": "2022-02-16T18:40:59.199597Z",
          "shell.execute_reply": "2022-02-16T18:40:59.209823Z"
        },
        "trusted": true,
        "id": "0JrjLsOl7d87"
      },
      "execution_count": null,
      "outputs": []
    },
    {
      "cell_type": "code",
      "source": [
        "from sklearn.metrics import f1_score, accuracy_score, recall_score, precision_score\n",
        "\n",
        "result1, model_outputs1, wrong_predictions1 = model.eval_model(df_test, f1=f1_score, r=recall_score, p=precision_score)\n",
        "\n",
        "result1"
      ],
      "metadata": {
        "execution": {
          "iopub.status.busy": "2022-02-16T18:41:04.129678Z",
          "iopub.execute_input": "2022-02-16T18:41:04.130443Z",
          "iopub.status.idle": "2022-02-16T18:42:11.810816Z",
          "shell.execute_reply.started": "2022-02-16T18:41:04.130404Z",
          "shell.execute_reply": "2022-02-16T18:42:11.809991Z"
        },
        "trusted": true,
        "id": "Eg5GzyCF7d87"
      },
      "execution_count": null,
      "outputs": []
    },
    {
      "cell_type": "markdown",
      "source": [
        "# 2] Train model stage 2 (bt+ original)"
      ],
      "metadata": {
        "id": "1RCAtN7HGN7G"
      }
    },
    {
      "cell_type": "code",
      "source": [
        "df_backtrans"
      ],
      "metadata": {
        "execution": {
          "iopub.status.busy": "2022-02-16T18:42:11.813013Z",
          "iopub.execute_input": "2022-02-16T18:42:11.813360Z",
          "iopub.status.idle": "2022-02-16T18:42:11.830325Z",
          "shell.execute_reply.started": "2022-02-16T18:42:11.813320Z",
          "shell.execute_reply": "2022-02-16T18:42:11.829434Z"
        },
        "trusted": true,
        "id": "JM9Gi8o07d87"
      },
      "execution_count": null,
      "outputs": []
    },
    {
      "cell_type": "markdown",
      "source": [
        "## French"
      ],
      "metadata": {
        "id": "WsXntgoA7d88"
      }
    },
    {
      "cell_type": "code",
      "source": [
        "df_fr_train = df_backtrans[[\"Sentence\",\"Labels\"]]\n",
        "df_fr_train"
      ],
      "metadata": {
        "execution": {
          "iopub.status.busy": "2022-02-16T18:42:11.831807Z",
          "iopub.execute_input": "2022-02-16T18:42:11.832078Z",
          "iopub.status.idle": "2022-02-16T18:42:11.847719Z",
          "shell.execute_reply.started": "2022-02-16T18:42:11.832044Z",
          "shell.execute_reply": "2022-02-16T18:42:11.846972Z"
        },
        "trusted": true,
        "id": "B5-hQIsp7d88"
      },
      "execution_count": null,
      "outputs": []
    },
    {
      "cell_type": "markdown",
      "source": [
        "## english"
      ],
      "metadata": {
        "id": "53TwiV5Z7d88"
      }
    },
    {
      "cell_type": "code",
      "source": [
        "df_en_train = df_backtrans[[\"EN-FR\",\"Labels\"]]\n",
        "df_en_train"
      ],
      "metadata": {
        "execution": {
          "iopub.status.busy": "2022-02-16T18:42:11.848813Z",
          "iopub.execute_input": "2022-02-16T18:42:11.849216Z",
          "iopub.status.idle": "2022-02-16T18:42:11.863804Z",
          "shell.execute_reply.started": "2022-02-16T18:42:11.849180Z",
          "shell.execute_reply": "2022-02-16T18:42:11.862502Z"
        },
        "trusted": true,
        "id": "gBkj2B8s7d88"
      },
      "execution_count": null,
      "outputs": []
    },
    {
      "cell_type": "code",
      "source": [
        "df_en_train=df_en_train.rename(columns={\"EN-FR\": \"Sentence\"})\n",
        "df_en_train"
      ],
      "metadata": {
        "execution": {
          "iopub.status.busy": "2022-02-16T18:42:11.866314Z",
          "iopub.execute_input": "2022-02-16T18:42:11.866580Z",
          "iopub.status.idle": "2022-02-16T18:42:11.879994Z",
          "shell.execute_reply.started": "2022-02-16T18:42:11.866546Z",
          "shell.execute_reply": "2022-02-16T18:42:11.879277Z"
        },
        "trusted": true,
        "id": "DxQ0-9_B7d88"
      },
      "execution_count": null,
      "outputs": []
    },
    {
      "cell_type": "markdown",
      "source": [
        "## Italian"
      ],
      "metadata": {
        "id": "D7GtgJVJ7d88"
      }
    },
    {
      "cell_type": "code",
      "source": [
        "df_it_train = df_backtrans[[\"IT-FR\",\"Labels\"]]\n",
        "df_it_train"
      ],
      "metadata": {
        "execution": {
          "iopub.status.busy": "2022-02-16T18:42:11.881321Z",
          "iopub.execute_input": "2022-02-16T18:42:11.881570Z",
          "iopub.status.idle": "2022-02-16T18:42:11.893701Z",
          "shell.execute_reply.started": "2022-02-16T18:42:11.881538Z",
          "shell.execute_reply": "2022-02-16T18:42:11.892978Z"
        },
        "trusted": true,
        "id": "AuG8huat7d89"
      },
      "execution_count": null,
      "outputs": []
    },
    {
      "cell_type": "code",
      "source": [
        "df_it_train=df_it_train.rename(columns={\"IT-FR\": \"Sentence\"})\n",
        "df_it_train"
      ],
      "metadata": {
        "execution": {
          "iopub.status.busy": "2022-02-16T18:42:11.896283Z",
          "iopub.execute_input": "2022-02-16T18:42:11.897740Z",
          "iopub.status.idle": "2022-02-16T18:42:11.910201Z",
          "shell.execute_reply.started": "2022-02-16T18:42:11.897711Z",
          "shell.execute_reply": "2022-02-16T18:42:11.909573Z"
        },
        "trusted": true,
        "id": "UpvtwrXO7d89"
      },
      "execution_count": null,
      "outputs": []
    },
    {
      "cell_type": "markdown",
      "source": [
        "## Concat and remove duplicates"
      ],
      "metadata": {
        "id": "squbhHTC7d89"
      }
    },
    {
      "cell_type": "code",
      "source": [
        "df_all_train_bt=pd.concat([df_en_train,df_it_train,df_fr_train])\n",
        "df_all_train_bt"
      ],
      "metadata": {
        "execution": {
          "iopub.status.busy": "2022-02-16T18:42:11.911344Z",
          "iopub.execute_input": "2022-02-16T18:42:11.911592Z",
          "iopub.status.idle": "2022-02-16T18:42:11.924738Z",
          "shell.execute_reply.started": "2022-02-16T18:42:11.911560Z",
          "shell.execute_reply": "2022-02-16T18:42:11.924114Z"
        },
        "trusted": true,
        "id": "Pb4d7zBW7d89"
      },
      "execution_count": null,
      "outputs": []
    },
    {
      "cell_type": "code",
      "source": [
        "len(set(df_all_train_bt['Sentence']))"
      ],
      "metadata": {
        "execution": {
          "iopub.status.busy": "2022-02-16T18:42:11.926732Z",
          "iopub.execute_input": "2022-02-16T18:42:11.927141Z",
          "iopub.status.idle": "2022-02-16T18:42:11.935975Z",
          "shell.execute_reply.started": "2022-02-16T18:42:11.927104Z",
          "shell.execute_reply": "2022-02-16T18:42:11.934733Z"
        },
        "trusted": true,
        "id": "SVjvExQG7d89"
      },
      "execution_count": null,
      "outputs": []
    },
    {
      "cell_type": "code",
      "source": [
        "df_all_train_bt=df_all_train_bt.drop_duplicates(subset='Sentence')"
      ],
      "metadata": {
        "execution": {
          "iopub.status.busy": "2022-02-16T18:42:11.938346Z",
          "iopub.execute_input": "2022-02-16T18:42:11.939465Z",
          "iopub.status.idle": "2022-02-16T18:42:11.955260Z",
          "shell.execute_reply.started": "2022-02-16T18:42:11.939434Z",
          "shell.execute_reply": "2022-02-16T18:42:11.954566Z"
        },
        "trusted": true,
        "id": "nFXppgeP7d89"
      },
      "execution_count": null,
      "outputs": []
    },
    {
      "cell_type": "code",
      "source": [
        "df_all_train_bt[\"no_punctuation\"] = df_all_train_bt['Sentence'].str.replace('[^\\w\\s]','')\n",
        "df_all_train_bt"
      ],
      "metadata": {
        "execution": {
          "iopub.status.busy": "2022-02-16T18:42:11.956374Z",
          "iopub.execute_input": "2022-02-16T18:42:11.957109Z",
          "iopub.status.idle": "2022-02-16T18:42:12.019838Z",
          "shell.execute_reply.started": "2022-02-16T18:42:11.957070Z",
          "shell.execute_reply": "2022-02-16T18:42:12.018997Z"
        },
        "trusted": true,
        "id": "k9uqkFYd7d89"
      },
      "execution_count": null,
      "outputs": []
    },
    {
      "cell_type": "code",
      "source": [
        "df_all_train_bt=df_all_train_bt.drop_duplicates(subset='no_punctuation')\n",
        "df_all_train_bt.sort_values('ID')"
      ],
      "metadata": {
        "execution": {
          "iopub.status.busy": "2022-02-16T18:42:12.020896Z",
          "iopub.execute_input": "2022-02-16T18:42:12.021373Z",
          "iopub.status.idle": "2022-02-16T18:42:12.044100Z",
          "shell.execute_reply.started": "2022-02-16T18:42:12.021328Z",
          "shell.execute_reply": "2022-02-16T18:42:12.043384Z"
        },
        "trusted": true,
        "id": "iJcWpnHj7d8-"
      },
      "execution_count": null,
      "outputs": []
    },
    {
      "cell_type": "code",
      "source": [
        "del df_all_train_bt['no_punctuation']"
      ],
      "metadata": {
        "execution": {
          "iopub.status.busy": "2022-02-16T18:42:12.045383Z",
          "iopub.execute_input": "2022-02-16T18:42:12.045631Z",
          "iopub.status.idle": "2022-02-16T18:42:12.049651Z",
          "shell.execute_reply.started": "2022-02-16T18:42:12.045597Z",
          "shell.execute_reply": "2022-02-16T18:42:12.048732Z"
        },
        "trusted": true,
        "id": "USQvc0Wl7d8-"
      },
      "execution_count": null,
      "outputs": []
    },
    {
      "cell_type": "code",
      "source": [
        "df_all_train_bt"
      ],
      "metadata": {
        "execution": {
          "iopub.status.busy": "2022-02-16T18:42:12.053308Z",
          "iopub.execute_input": "2022-02-16T18:42:12.053762Z",
          "iopub.status.idle": "2022-02-16T18:42:12.065617Z",
          "shell.execute_reply.started": "2022-02-16T18:42:12.053726Z",
          "shell.execute_reply": "2022-02-16T18:42:12.064864Z"
        },
        "trusted": true,
        "id": "Ak4-OKCw7d8-"
      },
      "execution_count": null,
      "outputs": []
    },
    {
      "cell_type": "markdown",
      "source": [
        "# Train now"
      ],
      "metadata": {
        "id": "H3p9p9K-7d8-"
      }
    },
    {
      "cell_type": "code",
      "source": [
        "# Train the model\n",
        "model.train_model(df_all_train_bt)"
      ],
      "metadata": {
        "id": "riP8t2OTGRHA",
        "execution": {
          "iopub.status.busy": "2022-02-16T18:42:12.067069Z",
          "iopub.execute_input": "2022-02-16T18:42:12.067875Z",
          "iopub.status.idle": "2022-02-16T18:59:20.373583Z",
          "shell.execute_reply.started": "2022-02-16T18:42:12.067835Z",
          "shell.execute_reply": "2022-02-16T18:59:20.372860Z"
        },
        "trusted": true
      },
      "execution_count": null,
      "outputs": []
    },
    {
      "cell_type": "markdown",
      "source": [
        "# Test"
      ],
      "metadata": {
        "id": "GSp9NyDA7d8_"
      }
    },
    {
      "cell_type": "code",
      "source": [
        "import base64\n",
        "import requests\n",
        "\n",
        "df_test "
      ],
      "metadata": {
        "execution": {
          "iopub.status.busy": "2022-02-16T18:59:20.376299Z",
          "iopub.execute_input": "2022-02-16T18:59:20.376518Z",
          "iopub.status.idle": "2022-02-16T18:59:20.390516Z",
          "shell.execute_reply.started": "2022-02-16T18:59:20.376486Z",
          "shell.execute_reply": "2022-02-16T18:59:20.389865Z"
        },
        "trusted": true,
        "id": "jEwL9PgC7d8_"
      },
      "execution_count": null,
      "outputs": []
    },
    {
      "cell_type": "code",
      "source": [
        "result, model_outputs, wrong_predictions = model.eval_model(df_test, f1=f1_score, r=recall_score, p=precision_score)\n"
      ],
      "metadata": {
        "id": "b-qonh4aQicY",
        "execution": {
          "iopub.status.busy": "2022-02-16T18:59:20.391712Z",
          "iopub.execute_input": "2022-02-16T18:59:20.392125Z",
          "iopub.status.idle": "2022-02-16T19:00:29.899798Z",
          "shell.execute_reply.started": "2022-02-16T18:59:20.392088Z",
          "shell.execute_reply": "2022-02-16T19:00:29.899078Z"
        },
        "trusted": true
      },
      "execution_count": null,
      "outputs": []
    },
    {
      "cell_type": "code",
      "source": [
        "result"
      ],
      "metadata": {
        "execution": {
          "iopub.status.busy": "2022-02-16T19:05:02.808498Z",
          "iopub.execute_input": "2022-02-16T19:05:02.808759Z",
          "iopub.status.idle": "2022-02-16T19:05:02.814814Z",
          "shell.execute_reply.started": "2022-02-16T19:05:02.808729Z",
          "shell.execute_reply": "2022-02-16T19:05:02.813983Z"
        },
        "trusted": true,
        "id": "WvHaEzyV7d8_"
      },
      "execution_count": null,
      "outputs": []
    },
    {
      "cell_type": "markdown",
      "source": [
        "# Save "
      ],
      "metadata": {
        "id": "qK8KGaos7d9A"
      }
    },
    {
      "cell_type": "code",
      "source": [
        "y_dev_pred = [int(el[1] > el[0]) for el in model_outputs]\n",
        "df_test['Predicted Labels']=y_dev_pred"
      ],
      "metadata": {
        "execution": {
          "iopub.status.busy": "2022-02-16T19:00:29.901303Z",
          "iopub.execute_input": "2022-02-16T19:00:29.901560Z",
          "iopub.status.idle": "2022-02-16T19:00:29.928117Z",
          "shell.execute_reply.started": "2022-02-16T19:00:29.901522Z",
          "shell.execute_reply": "2022-02-16T19:00:29.927488Z"
        },
        "trusted": true,
        "id": "05m0KhPK7d9A"
      },
      "execution_count": null,
      "outputs": []
    },
    {
      "cell_type": "code",
      "source": [
        "df_test"
      ],
      "metadata": {
        "execution": {
          "iopub.status.busy": "2022-02-16T19:00:29.929172Z",
          "iopub.execute_input": "2022-02-16T19:00:29.929418Z",
          "iopub.status.idle": "2022-02-16T19:00:29.945363Z",
          "shell.execute_reply.started": "2022-02-16T19:00:29.929383Z",
          "shell.execute_reply": "2022-02-16T19:00:29.944687Z"
        },
        "trusted": true,
        "id": "JfM-qO-K7d9A"
      },
      "execution_count": null,
      "outputs": []
    },
    {
      "cell_type": "code",
      "source": [
        "#convert to TSV, i.e CSV with seperator= tab\n",
        "results_tsv=df_test.to_csv('answer_with_sent_fr_subtask1_20_jan.tsv', sep=\"\\t\")"
      ],
      "metadata": {
        "execution": {
          "iopub.status.busy": "2022-02-16T19:00:29.946634Z",
          "iopub.execute_input": "2022-02-16T19:00:29.946871Z",
          "iopub.status.idle": "2022-02-16T19:00:30.000930Z",
          "shell.execute_reply.started": "2022-02-16T19:00:29.946828Z",
          "shell.execute_reply": "2022-02-16T19:00:30.000305Z"
        },
        "trusted": true,
        "id": "mxJdydN87d9A"
      },
      "execution_count": null,
      "outputs": []
    },
    {
      "cell_type": "code",
      "source": [
        "del df_test['Sentence']\n"
      ],
      "metadata": {
        "execution": {
          "iopub.status.busy": "2022-02-16T19:00:30.002088Z",
          "iopub.execute_input": "2022-02-16T19:00:30.002344Z",
          "iopub.status.idle": "2022-02-16T19:00:30.007639Z",
          "shell.execute_reply.started": "2022-02-16T19:00:30.002310Z",
          "shell.execute_reply": "2022-02-16T19:00:30.006827Z"
        },
        "trusted": true,
        "id": "HE9gmmRt7d9A"
      },
      "execution_count": null,
      "outputs": []
    },
    {
      "cell_type": "code",
      "source": [
        "#convert to TSV, i.e CSV with seperator= tab\n",
        "results_tsv=df_test.to_csv('answer_fr_subtask1_20_jan.tsv', sep=\"\\t\")"
      ],
      "metadata": {
        "execution": {
          "iopub.status.busy": "2022-02-16T19:00:30.008996Z",
          "iopub.execute_input": "2022-02-16T19:00:30.009429Z",
          "iopub.status.idle": "2022-02-16T19:00:30.030483Z",
          "shell.execute_reply.started": "2022-02-16T19:00:30.009395Z",
          "shell.execute_reply": "2022-02-16T19:00:30.029891Z"
        },
        "trusted": true,
        "id": "83z2K8UZ7d9A"
      },
      "execution_count": null,
      "outputs": []
    }
  ]
}