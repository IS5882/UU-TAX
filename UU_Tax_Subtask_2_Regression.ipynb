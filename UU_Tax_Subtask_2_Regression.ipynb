{
  "nbformat": 4,
  "nbformat_minor": 0,
  "metadata": {
    "colab": {
      "name": "UU-Tax Subtask 2: Regression.ipynb",
      "provenance": [],
      "collapsed_sections": [],
      "toc_visible": true,
      "include_colab_link": true
    },
    "kernelspec": {
      "name": "python3",
      "display_name": "Python 3"
    },
    "language_info": {
      "name": "python"
    },
    "accelerator": "TPU"
  },
  "cells": [
    {
      "cell_type": "markdown",
      "metadata": {
        "id": "view-in-github",
        "colab_type": "text"
      },
      "source": [
        "<a href=\"https://colab.research.google.com/github/IS5882/UU-TAX/blob/main/UU_Tax_Subtask_2_Regression.ipynb\" target=\"_parent\"><img src=\"https://colab.research.google.com/assets/colab-badge.svg\" alt=\"Open In Colab\"/></a>"
      ]
    },
    {
      "cell_type": "markdown",
      "metadata": {
        "id": "rx9ZAmyWbWcR"
      },
      "source": [
        "# UU TaX at SemEval 2022: *TASK3: PRETENS - SUBTASK2*\n",
        "\n",
        "\n"
      ]
    },
    {
      "cell_type": "markdown",
      "metadata": {
        "id": "kEIbYB89Y-Xt"
      },
      "source": [
        "Cloning the git repository, to get data for Task3:subtask-2\n"
      ]
    },
    {
      "cell_type": "markdown",
      "source": [
        "# Imports"
      ],
      "metadata": {
        "id": "pycZqayxuNpK"
      }
    },
    {
      "cell_type": "code",
      "source": [
        "!pip install tensorflow_text "
      ],
      "metadata": {
        "id": "hGh1Cw7lzG_T",
        "colab": {
          "base_uri": "https://localhost:8080/"
        },
        "outputId": "50e4cd98-b06d-49d8-ebd5-de174b1f938b"
      },
      "execution_count": 1,
      "outputs": [
        {
          "output_type": "stream",
          "name": "stdout",
          "text": [
            "Requirement already satisfied: tensorflow_text in /usr/local/lib/python3.7/dist-packages (2.8.1)\n",
            "Requirement already satisfied: tensorflow<2.9,>=2.8.0 in /usr/local/lib/python3.7/dist-packages (from tensorflow_text) (2.8.0)\n",
            "Requirement already satisfied: tensorflow-hub>=0.8.0 in /usr/local/lib/python3.7/dist-packages (from tensorflow_text) (0.12.0)\n",
            "Requirement already satisfied: libclang>=9.0.1 in /usr/local/lib/python3.7/dist-packages (from tensorflow<2.9,>=2.8.0->tensorflow_text) (13.0.0)\n",
            "Requirement already satisfied: keras<2.9,>=2.8.0rc0 in /usr/local/lib/python3.7/dist-packages (from tensorflow<2.9,>=2.8.0->tensorflow_text) (2.8.0)\n",
            "Requirement already satisfied: setuptools in /usr/local/lib/python3.7/dist-packages (from tensorflow<2.9,>=2.8.0->tensorflow_text) (57.4.0)\n",
            "Requirement already satisfied: astunparse>=1.6.0 in /usr/local/lib/python3.7/dist-packages (from tensorflow<2.9,>=2.8.0->tensorflow_text) (1.6.3)\n",
            "Requirement already satisfied: typing-extensions>=3.6.6 in /usr/local/lib/python3.7/dist-packages (from tensorflow<2.9,>=2.8.0->tensorflow_text) (3.10.0.2)\n",
            "Requirement already satisfied: h5py>=2.9.0 in /usr/local/lib/python3.7/dist-packages (from tensorflow<2.9,>=2.8.0->tensorflow_text) (3.1.0)\n",
            "Requirement already satisfied: termcolor>=1.1.0 in /usr/local/lib/python3.7/dist-packages (from tensorflow<2.9,>=2.8.0->tensorflow_text) (1.1.0)\n",
            "Requirement already satisfied: tensorflow-io-gcs-filesystem>=0.23.1 in /usr/local/lib/python3.7/dist-packages (from tensorflow<2.9,>=2.8.0->tensorflow_text) (0.24.0)\n",
            "Requirement already satisfied: gast>=0.2.1 in /usr/local/lib/python3.7/dist-packages (from tensorflow<2.9,>=2.8.0->tensorflow_text) (0.4.0)\n",
            "Requirement already satisfied: protobuf>=3.9.2 in /usr/local/lib/python3.7/dist-packages (from tensorflow<2.9,>=2.8.0->tensorflow_text) (3.17.3)\n",
            "Requirement already satisfied: six>=1.12.0 in /usr/local/lib/python3.7/dist-packages (from tensorflow<2.9,>=2.8.0->tensorflow_text) (1.15.0)\n",
            "Requirement already satisfied: keras-preprocessing>=1.1.1 in /usr/local/lib/python3.7/dist-packages (from tensorflow<2.9,>=2.8.0->tensorflow_text) (1.1.2)\n",
            "Requirement already satisfied: opt-einsum>=2.3.2 in /usr/local/lib/python3.7/dist-packages (from tensorflow<2.9,>=2.8.0->tensorflow_text) (3.3.0)\n",
            "Requirement already satisfied: tf-estimator-nightly==2.8.0.dev2021122109 in /usr/local/lib/python3.7/dist-packages (from tensorflow<2.9,>=2.8.0->tensorflow_text) (2.8.0.dev2021122109)\n",
            "Requirement already satisfied: tensorboard<2.9,>=2.8 in /usr/local/lib/python3.7/dist-packages (from tensorflow<2.9,>=2.8.0->tensorflow_text) (2.8.0)\n",
            "Requirement already satisfied: absl-py>=0.4.0 in /usr/local/lib/python3.7/dist-packages (from tensorflow<2.9,>=2.8.0->tensorflow_text) (1.0.0)\n",
            "Requirement already satisfied: google-pasta>=0.1.1 in /usr/local/lib/python3.7/dist-packages (from tensorflow<2.9,>=2.8.0->tensorflow_text) (0.2.0)\n",
            "Requirement already satisfied: numpy>=1.20 in /usr/local/lib/python3.7/dist-packages (from tensorflow<2.9,>=2.8.0->tensorflow_text) (1.21.5)\n",
            "Requirement already satisfied: wrapt>=1.11.0 in /usr/local/lib/python3.7/dist-packages (from tensorflow<2.9,>=2.8.0->tensorflow_text) (1.13.3)\n",
            "Requirement already satisfied: flatbuffers>=1.12 in /usr/local/lib/python3.7/dist-packages (from tensorflow<2.9,>=2.8.0->tensorflow_text) (2.0)\n",
            "Requirement already satisfied: grpcio<2.0,>=1.24.3 in /usr/local/lib/python3.7/dist-packages (from tensorflow<2.9,>=2.8.0->tensorflow_text) (1.43.0)\n",
            "Requirement already satisfied: wheel<1.0,>=0.23.0 in /usr/local/lib/python3.7/dist-packages (from astunparse>=1.6.0->tensorflow<2.9,>=2.8.0->tensorflow_text) (0.37.1)\n",
            "Requirement already satisfied: cached-property in /usr/local/lib/python3.7/dist-packages (from h5py>=2.9.0->tensorflow<2.9,>=2.8.0->tensorflow_text) (1.5.2)\n",
            "Requirement already satisfied: markdown>=2.6.8 in /usr/local/lib/python3.7/dist-packages (from tensorboard<2.9,>=2.8->tensorflow<2.9,>=2.8.0->tensorflow_text) (3.3.6)\n",
            "Requirement already satisfied: tensorboard-plugin-wit>=1.6.0 in /usr/local/lib/python3.7/dist-packages (from tensorboard<2.9,>=2.8->tensorflow<2.9,>=2.8.0->tensorflow_text) (1.8.1)\n",
            "Requirement already satisfied: google-auth<3,>=1.6.3 in /usr/local/lib/python3.7/dist-packages (from tensorboard<2.9,>=2.8->tensorflow<2.9,>=2.8.0->tensorflow_text) (1.35.0)\n",
            "Requirement already satisfied: werkzeug>=0.11.15 in /usr/local/lib/python3.7/dist-packages (from tensorboard<2.9,>=2.8->tensorflow<2.9,>=2.8.0->tensorflow_text) (1.0.1)\n",
            "Requirement already satisfied: google-auth-oauthlib<0.5,>=0.4.1 in /usr/local/lib/python3.7/dist-packages (from tensorboard<2.9,>=2.8->tensorflow<2.9,>=2.8.0->tensorflow_text) (0.4.6)\n",
            "Requirement already satisfied: requests<3,>=2.21.0 in /usr/local/lib/python3.7/dist-packages (from tensorboard<2.9,>=2.8->tensorflow<2.9,>=2.8.0->tensorflow_text) (2.23.0)\n",
            "Requirement already satisfied: tensorboard-data-server<0.7.0,>=0.6.0 in /usr/local/lib/python3.7/dist-packages (from tensorboard<2.9,>=2.8->tensorflow<2.9,>=2.8.0->tensorflow_text) (0.6.1)\n",
            "Requirement already satisfied: rsa<5,>=3.1.4 in /usr/local/lib/python3.7/dist-packages (from google-auth<3,>=1.6.3->tensorboard<2.9,>=2.8->tensorflow<2.9,>=2.8.0->tensorflow_text) (4.8)\n",
            "Requirement already satisfied: cachetools<5.0,>=2.0.0 in /usr/local/lib/python3.7/dist-packages (from google-auth<3,>=1.6.3->tensorboard<2.9,>=2.8->tensorflow<2.9,>=2.8.0->tensorflow_text) (4.2.4)\n",
            "Requirement already satisfied: pyasn1-modules>=0.2.1 in /usr/local/lib/python3.7/dist-packages (from google-auth<3,>=1.6.3->tensorboard<2.9,>=2.8->tensorflow<2.9,>=2.8.0->tensorflow_text) (0.2.8)\n",
            "Requirement already satisfied: requests-oauthlib>=0.7.0 in /usr/local/lib/python3.7/dist-packages (from google-auth-oauthlib<0.5,>=0.4.1->tensorboard<2.9,>=2.8->tensorflow<2.9,>=2.8.0->tensorflow_text) (1.3.1)\n",
            "Requirement already satisfied: importlib-metadata>=4.4 in /usr/local/lib/python3.7/dist-packages (from markdown>=2.6.8->tensorboard<2.9,>=2.8->tensorflow<2.9,>=2.8.0->tensorflow_text) (4.10.1)\n",
            "Requirement already satisfied: zipp>=0.5 in /usr/local/lib/python3.7/dist-packages (from importlib-metadata>=4.4->markdown>=2.6.8->tensorboard<2.9,>=2.8->tensorflow<2.9,>=2.8.0->tensorflow_text) (3.7.0)\n",
            "Requirement already satisfied: pyasn1<0.5.0,>=0.4.6 in /usr/local/lib/python3.7/dist-packages (from pyasn1-modules>=0.2.1->google-auth<3,>=1.6.3->tensorboard<2.9,>=2.8->tensorflow<2.9,>=2.8.0->tensorflow_text) (0.4.8)\n",
            "Requirement already satisfied: certifi>=2017.4.17 in /usr/local/lib/python3.7/dist-packages (from requests<3,>=2.21.0->tensorboard<2.9,>=2.8->tensorflow<2.9,>=2.8.0->tensorflow_text) (2021.10.8)\n",
            "Requirement already satisfied: chardet<4,>=3.0.2 in /usr/local/lib/python3.7/dist-packages (from requests<3,>=2.21.0->tensorboard<2.9,>=2.8->tensorflow<2.9,>=2.8.0->tensorflow_text) (3.0.4)\n",
            "Requirement already satisfied: urllib3!=1.25.0,!=1.25.1,<1.26,>=1.21.1 in /usr/local/lib/python3.7/dist-packages (from requests<3,>=2.21.0->tensorboard<2.9,>=2.8->tensorflow<2.9,>=2.8.0->tensorflow_text) (1.24.3)\n",
            "Requirement already satisfied: idna<3,>=2.5 in /usr/local/lib/python3.7/dist-packages (from requests<3,>=2.21.0->tensorboard<2.9,>=2.8->tensorflow<2.9,>=2.8.0->tensorflow_text) (2.10)\n",
            "Requirement already satisfied: oauthlib>=3.0.0 in /usr/local/lib/python3.7/dist-packages (from requests-oauthlib>=0.7.0->google-auth-oauthlib<0.5,>=0.4.1->tensorboard<2.9,>=2.8->tensorflow<2.9,>=2.8.0->tensorflow_text) (3.2.0)\n"
          ]
        }
      ]
    },
    {
      "cell_type": "code",
      "source": [
        "import tensorflow as tf\n",
        "import tensorflow_hub as hub\n",
        "import numpy as np\n",
        "from numpy import mean\n",
        "from numpy import std\n",
        "from sklearn.datasets import make_regression\n",
        "from sklearn.model_selection import cross_val_score\n",
        "from sklearn.model_selection import RepeatedKFold\n",
        "from sklearn.linear_model import LinearRegression, LogisticRegression\n",
        "from sklearn.neighbors import KNeighborsRegressor\n",
        "from sklearn.tree import DecisionTreeRegressor\n",
        "from sklearn.svm import SVR\n",
        "from matplotlib import pyplot"
      ],
      "metadata": {
        "id": "V1UtIspcuKXu"
      },
      "execution_count": 2,
      "outputs": []
    },
    {
      "cell_type": "code",
      "source": [
        "!pip3 install tensorflow_text>=2.0.0rc0\n"
      ],
      "metadata": {
        "id": "0I_RNymVz8tt"
      },
      "execution_count": 3,
      "outputs": []
    },
    {
      "cell_type": "code",
      "metadata": {
        "id": "NsgytcquGVzY",
        "colab": {
          "base_uri": "https://localhost:8080/"
        },
        "outputId": "7e076efc-c236-44ad-ed8b-b78d333e3cc4"
      },
      "source": [
        "##### Data Reader -- English/French/Italian\n",
        "!git clone https://github.com/shammur/SemEval2022Task3.git\n",
        "%cd ./SemEval2022Task3/\n",
        "#data/train/train_subtask-2/\n",
        "!ls"
      ],
      "execution_count": 4,
      "outputs": [
        {
          "output_type": "stream",
          "name": "stdout",
          "text": [
            "Cloning into 'SemEval2022Task3'...\n",
            "remote: Enumerating objects: 391, done.\u001b[K\n",
            "remote: Counting objects: 100% (391/391), done.\u001b[K\n",
            "remote: Compressing objects: 100% (325/325), done.\u001b[K\n",
            "remote: Total 391 (delta 182), reused 155 (delta 53), pack-reused 0\u001b[K\n",
            "Receiving objects: 100% (391/391), 2.05 MiB | 3.37 MiB/s, done.\n",
            "Resolving deltas: 100% (182/182), done.\n",
            "/content/SemEval2022Task3\n",
            "baseline\t  README.md\n",
            "data\t\t  SemEval_Task3_Baseline_subtask1.ipynb\n",
            "LICENSE\t\t  SemEval_Task3_Baseline_subtask2.ipynb\n",
            "pretens_logo.png  Task-timeline\n"
          ]
        }
      ]
    },
    {
      "cell_type": "markdown",
      "metadata": {
        "id": "_eGXwQpkceLc"
      },
      "source": [
        "Setting up the environment for the task"
      ]
    },
    {
      "cell_type": "code",
      "metadata": {
        "id": "79VblmVx1A-p"
      },
      "source": [
        "import os, sys, time\n",
        "from sklearn.feature_extraction.text import TfidfVectorizer, CountVectorizer\n",
        "from sklearn import preprocessing\n",
        "from sklearn.svm import SVR\n",
        "from scipy import stats\n",
        "from collections import defaultdict\n",
        "import numpy as np\n",
        "import pandas as pd\n",
        "import statistics\n",
        "\n",
        "from baseline.utils import get_train_dev, compute_metrics_task2, process_eval_jsons_task2\n",
        "\n",
        "RANDOM_SEED = 42\n",
        "np.random.seed(RANDOM_SEED)\n",
        "\n"
      ],
      "execution_count": 5,
      "outputs": []
    },
    {
      "cell_type": "markdown",
      "metadata": {
        "id": "-vteJvCPdHIO"
      },
      "source": [
        "# Download USE\n"
      ]
    },
    {
      "cell_type": "code",
      "source": [
        "import tensorflow_hub as hub\n",
        "import numpy as np\n",
        "import tensorflow_text\n",
        "\n",
        "\n",
        "model = hub.load(\"https://tfhub.dev/google/universal-sentence-encoder-multilingual-large/3\") #large\n",
        "\n"
      ],
      "metadata": {
        "id": "pRxQLYBj14aB"
      },
      "execution_count": 6,
      "outputs": []
    },
    {
      "cell_type": "markdown",
      "source": [
        "#  Regression"
      ],
      "metadata": {
        "id": "lE5dyQYwRbVT"
      }
    },
    {
      "cell_type": "markdown",
      "source": [
        "## Models"
      ],
      "metadata": {
        "id": "Vck2YciaRu6q"
      }
    },
    {
      "cell_type": "markdown",
      "source": [
        "### USE"
      ],
      "metadata": {
        "id": "yqhIHZNsXY6o"
      }
    },
    {
      "cell_type": "code",
      "source": [
        "def use(train,test, classifier='svm'):\n",
        "  eval_jsons=[]\n",
        "\n",
        "  def getUse(df):\n",
        "    return model([df['Sentence']])[0].numpy()\n",
        "\n",
        "\n",
        "  #Get Features \n",
        "  train['Sentence_emb']=train.apply(getUse,axis=1)\n",
        "  train_x_feat=train['Sentence_emb']\n",
        "\n",
        "\n",
        "  test['Sentence_emb']=test.apply(getUse,axis=1)\n",
        "  test_x_feat=test['Sentence_emb']\n",
        "\n",
        "  #Get text and lables\n",
        "  train_texts=(train['Sentence'])\n",
        "  y_train=np.array(train['Score'])\n",
        "  \n",
        "  test_texts=(test['Sentence'])\n",
        "  test_true_y=np.array(test['Scores'])   \n",
        "\n",
        "  \n",
        "  if classifier=='lr':\n",
        "        regresson =LinearRegression().fit(list(train_x_feat), y_train)\n",
        "  elif classifier=='knr':\n",
        "        regresson =KNeighborsRegressor().fit(list(train_x_feat), y_train)\n",
        "  elif classifier=='dt':\n",
        "        regresson =DecisionTreeRegressor().fit(list(train_x_feat), y_train)\n",
        "  else:\n",
        "      regresson =SVR(C=1.0, epsilon=0.2).fit(list(train_x_feat), y_train)\n",
        "    \n",
        "  #Testing:\n",
        "  test_pred_y = regresson.predict(list(test_x_feat))\n",
        "    \n",
        "  eval_jsons.append(compute_metrics_task2(test_pred_y,test_true_y))\n",
        "  return eval_jsons,test_pred_y"
      ],
      "metadata": {
        "id": "X9Jdf1UwRuqA"
      },
      "execution_count": 16,
      "outputs": []
    },
    {
      "cell_type": "markdown",
      "source": [
        "### TF_IDF and and send classifier name: svm, knr, lr, dt (For baseline testing)"
      ],
      "metadata": {
        "id": "gsItXLs5Yt7K"
      }
    },
    {
      "cell_type": "code",
      "source": [
        "def tfidf(train,test, classifier='svm', ngram=3):\n",
        "  eval_jsons=[]\n",
        "\n",
        " \n",
        "\n",
        "  #Get text and lables\n",
        "  train_texts=(train['Sentence'])\n",
        "  y_train=np.array(train['Score'])\n",
        "  \n",
        "  test_texts=(test['Sentence'])\n",
        "  test_true_y=np.array(test['Scores'])   \n",
        "\n",
        "  #Creating ngram features\n",
        "  tfidf_vectorizer = TfidfVectorizer(encoding='utf-8', lowercase=True, ngram_range=(1, ngram), norm='l1',\n",
        "                                       use_idf=True, max_df=0.95, min_df=3, max_features=1000) \n",
        "\n",
        "  train_x_feat = tfidf_vectorizer.fit_transform(train_texts)\n",
        "\n",
        "\n",
        "  #Training Linear Model\n",
        "  if classifier=='lr':\n",
        "        regresson =LinearRegression().fit(train_x_feat, y_train)\n",
        "  elif classifier=='knr':\n",
        "        regresson =KNeighborsRegressor().fit(train_x_feat, y_train)\n",
        "  elif classifier=='dt':\n",
        "        regresson =DecisionTreeRegressor().fit(train_x_feat, y_train)\n",
        "  else:\n",
        "        regresson =SVR(C=1.0, epsilon=0.2).fit(train_x_feat, y_train)\n",
        "    \n",
        "  #Testing:\n",
        "  test_x_feat = tfidf_vectorizer.transform(test_texts)\n",
        "  test_pred_y = regresson.predict(test_x_feat)\n",
        "    \n",
        "  eval_jsons.append(compute_metrics_task2(test_pred_y,test_true_y))\n",
        "  return eval_jsons,test_pred_y"
      ],
      "metadata": {
        "id": "ylroLCdOY2hB"
      },
      "execution_count": 17,
      "outputs": []
    },
    {
      "cell_type": "markdown",
      "source": [
        "# English"
      ],
      "metadata": {
        "id": "ltG2KwxHRKnm"
      }
    },
    {
      "cell_type": "markdown",
      "source": [
        "## Train"
      ],
      "metadata": {
        "id": "pl6fwgJc74Xs"
      }
    },
    {
      "cell_type": "code",
      "source": [
        "data_url = 'https://raw.githubusercontent.com/shammur/SemEval2022Task3/main/data/train/train_subtask-2/en/'\n",
        "folds = [pd.read_csv(os.path.join(data_url, 'En-Subtask2-fold_{}.tsv'.format(i)), sep='\\t') \\\n",
        "         for i in range(2)] #reading all folds from GitHub\n",
        "\n",
        "df_en_train = pd.concat(folds[0:2]) \n",
        "df_en_train"
      ],
      "metadata": {
        "colab": {
          "base_uri": "https://localhost:8080/",
          "height": 424
        },
        "id": "54DY3jI772_k",
        "outputId": "97ee46c8-702e-4c95-9f5a-e6a779bd5ccb"
      },
      "execution_count": 18,
      "outputs": [
        {
          "output_type": "execute_result",
          "data": {
            "text/html": [
              "\n",
              "  <div id=\"df-c3a01f5d-9e1c-4a3c-b2e3-803271a3f45a\">\n",
              "    <div class=\"colab-df-container\">\n",
              "      <div>\n",
              "<style scoped>\n",
              "    .dataframe tbody tr th:only-of-type {\n",
              "        vertical-align: middle;\n",
              "    }\n",
              "\n",
              "    .dataframe tbody tr th {\n",
              "        vertical-align: top;\n",
              "    }\n",
              "\n",
              "    .dataframe thead th {\n",
              "        text-align: right;\n",
              "    }\n",
              "</style>\n",
              "<table border=\"1\" class=\"dataframe\">\n",
              "  <thead>\n",
              "    <tr style=\"text-align: right;\">\n",
              "      <th></th>\n",
              "      <th>ID</th>\n",
              "      <th>Sentence</th>\n",
              "      <th>Score</th>\n",
              "    </tr>\n",
              "  </thead>\n",
              "  <tbody>\n",
              "    <tr>\n",
              "      <th>0</th>\n",
              "      <td>34</td>\n",
              "      <td>I like cats, but not sparrows.</td>\n",
              "      <td>4.77</td>\n",
              "    </tr>\n",
              "    <tr>\n",
              "      <th>1</th>\n",
              "      <td>256</td>\n",
              "      <td>I like caviar, an interesting type of veal.</td>\n",
              "      <td>1.83</td>\n",
              "    </tr>\n",
              "    <tr>\n",
              "      <th>2</th>\n",
              "      <td>118</td>\n",
              "      <td>I like turkey, but not oysters.</td>\n",
              "      <td>5.42</td>\n",
              "    </tr>\n",
              "    <tr>\n",
              "      <th>3</th>\n",
              "      <td>363</td>\n",
              "      <td>I like crabs, and chicken too.</td>\n",
              "      <td>5.75</td>\n",
              "    </tr>\n",
              "    <tr>\n",
              "      <th>4</th>\n",
              "      <td>307</td>\n",
              "      <td>I like oaks, and trees too.</td>\n",
              "      <td>4.00</td>\n",
              "    </tr>\n",
              "    <tr>\n",
              "      <th>...</th>\n",
              "      <td>...</td>\n",
              "      <td>...</td>\n",
              "      <td>...</td>\n",
              "    </tr>\n",
              "    <tr>\n",
              "      <th>257</th>\n",
              "      <td>248</td>\n",
              "      <td>I like oysters, an interesting type of turkey.</td>\n",
              "      <td>1.83</td>\n",
              "    </tr>\n",
              "    <tr>\n",
              "      <th>258</th>\n",
              "      <td>277</td>\n",
              "      <td>I like ducks, and birds too.</td>\n",
              "      <td>4.83</td>\n",
              "    </tr>\n",
              "    <tr>\n",
              "      <th>259</th>\n",
              "      <td>255</td>\n",
              "      <td>I like seafood, an interesting type of caviar.</td>\n",
              "      <td>1.67</td>\n",
              "    </tr>\n",
              "    <tr>\n",
              "      <th>260</th>\n",
              "      <td>375</td>\n",
              "      <td>I like oysters, and seafood too.</td>\n",
              "      <td>4.45</td>\n",
              "    </tr>\n",
              "    <tr>\n",
              "      <th>261</th>\n",
              "      <td>405</td>\n",
              "      <td>I like birds more than dogs.</td>\n",
              "      <td>6.50</td>\n",
              "    </tr>\n",
              "  </tbody>\n",
              "</table>\n",
              "<p>524 rows × 3 columns</p>\n",
              "</div>\n",
              "      <button class=\"colab-df-convert\" onclick=\"convertToInteractive('df-c3a01f5d-9e1c-4a3c-b2e3-803271a3f45a')\"\n",
              "              title=\"Convert this dataframe to an interactive table.\"\n",
              "              style=\"display:none;\">\n",
              "        \n",
              "  <svg xmlns=\"http://www.w3.org/2000/svg\" height=\"24px\"viewBox=\"0 0 24 24\"\n",
              "       width=\"24px\">\n",
              "    <path d=\"M0 0h24v24H0V0z\" fill=\"none\"/>\n",
              "    <path d=\"M18.56 5.44l.94 2.06.94-2.06 2.06-.94-2.06-.94-.94-2.06-.94 2.06-2.06.94zm-11 1L8.5 8.5l.94-2.06 2.06-.94-2.06-.94L8.5 2.5l-.94 2.06-2.06.94zm10 10l.94 2.06.94-2.06 2.06-.94-2.06-.94-.94-2.06-.94 2.06-2.06.94z\"/><path d=\"M17.41 7.96l-1.37-1.37c-.4-.4-.92-.59-1.43-.59-.52 0-1.04.2-1.43.59L10.3 9.45l-7.72 7.72c-.78.78-.78 2.05 0 2.83L4 21.41c.39.39.9.59 1.41.59.51 0 1.02-.2 1.41-.59l7.78-7.78 2.81-2.81c.8-.78.8-2.07 0-2.86zM5.41 20L4 18.59l7.72-7.72 1.47 1.35L5.41 20z\"/>\n",
              "  </svg>\n",
              "      </button>\n",
              "      \n",
              "  <style>\n",
              "    .colab-df-container {\n",
              "      display:flex;\n",
              "      flex-wrap:wrap;\n",
              "      gap: 12px;\n",
              "    }\n",
              "\n",
              "    .colab-df-convert {\n",
              "      background-color: #E8F0FE;\n",
              "      border: none;\n",
              "      border-radius: 50%;\n",
              "      cursor: pointer;\n",
              "      display: none;\n",
              "      fill: #1967D2;\n",
              "      height: 32px;\n",
              "      padding: 0 0 0 0;\n",
              "      width: 32px;\n",
              "    }\n",
              "\n",
              "    .colab-df-convert:hover {\n",
              "      background-color: #E2EBFA;\n",
              "      box-shadow: 0px 1px 2px rgba(60, 64, 67, 0.3), 0px 1px 3px 1px rgba(60, 64, 67, 0.15);\n",
              "      fill: #174EA6;\n",
              "    }\n",
              "\n",
              "    [theme=dark] .colab-df-convert {\n",
              "      background-color: #3B4455;\n",
              "      fill: #D2E3FC;\n",
              "    }\n",
              "\n",
              "    [theme=dark] .colab-df-convert:hover {\n",
              "      background-color: #434B5C;\n",
              "      box-shadow: 0px 1px 3px 1px rgba(0, 0, 0, 0.15);\n",
              "      filter: drop-shadow(0px 1px 2px rgba(0, 0, 0, 0.3));\n",
              "      fill: #FFFFFF;\n",
              "    }\n",
              "  </style>\n",
              "\n",
              "      <script>\n",
              "        const buttonEl =\n",
              "          document.querySelector('#df-c3a01f5d-9e1c-4a3c-b2e3-803271a3f45a button.colab-df-convert');\n",
              "        buttonEl.style.display =\n",
              "          google.colab.kernel.accessAllowed ? 'block' : 'none';\n",
              "\n",
              "        async function convertToInteractive(key) {\n",
              "          const element = document.querySelector('#df-c3a01f5d-9e1c-4a3c-b2e3-803271a3f45a');\n",
              "          const dataTable =\n",
              "            await google.colab.kernel.invokeFunction('convertToInteractive',\n",
              "                                                     [key], {});\n",
              "          if (!dataTable) return;\n",
              "\n",
              "          const docLinkHtml = 'Like what you see? Visit the ' +\n",
              "            '<a target=\"_blank\" href=https://colab.research.google.com/notebooks/data_table.ipynb>data table notebook</a>'\n",
              "            + ' to learn more about interactive tables.';\n",
              "          element.innerHTML = '';\n",
              "          dataTable['output_type'] = 'display_data';\n",
              "          await google.colab.output.renderOutput(dataTable, element);\n",
              "          const docLink = document.createElement('div');\n",
              "          docLink.innerHTML = docLinkHtml;\n",
              "          element.appendChild(docLink);\n",
              "        }\n",
              "      </script>\n",
              "    </div>\n",
              "  </div>\n",
              "  "
            ],
            "text/plain": [
              "      ID                                        Sentence  Score\n",
              "0     34                  I like cats, but not sparrows.   4.77\n",
              "1    256     I like caviar, an interesting type of veal.   1.83\n",
              "2    118                 I like turkey, but not oysters.   5.42\n",
              "3    363                  I like crabs, and chicken too.   5.75\n",
              "4    307                     I like oaks, and trees too.   4.00\n",
              "..   ...                                             ...    ...\n",
              "257  248  I like oysters, an interesting type of turkey.   1.83\n",
              "258  277                    I like ducks, and birds too.   4.83\n",
              "259  255  I like seafood, an interesting type of caviar.   1.67\n",
              "260  375                I like oysters, and seafood too.   4.45\n",
              "261  405                    I like birds more than dogs.   6.50\n",
              "\n",
              "[524 rows x 3 columns]"
            ]
          },
          "metadata": {},
          "execution_count": 18
        }
      ]
    },
    {
      "cell_type": "markdown",
      "source": [
        "## Read  test data"
      ],
      "metadata": {
        "id": "pcvAIlluO-Uo"
      }
    },
    {
      "cell_type": "code",
      "source": [
        "#dummy score\n",
        "import random\n",
        "scores=[random.uniform(1.0,7.0)]*1009 \n",
        "len(scores)"
      ],
      "metadata": {
        "colab": {
          "base_uri": "https://localhost:8080/"
        },
        "id": "yUUAwJ8aPfhJ",
        "outputId": "02a4db73-9e68-4ea5-bd18-34d8bd5e9c96"
      },
      "execution_count": 19,
      "outputs": [
        {
          "output_type": "execute_result",
          "data": {
            "text/plain": [
              "1009"
            ]
          },
          "metadata": {},
          "execution_count": 19
        }
      ]
    },
    {
      "cell_type": "code",
      "source": [
        "import base64\n",
        "import requests\n",
        "import pandas as pd\n",
        "df_en_test = pd.read_csv('https://raw.githubusercontent.com/shammur/SemEval2022Task3/main/data/test/official_test_set_with_labels/subtask-2/En-Subtask2-scores.tsv', sep='\\t')\n",
        "df_en_test=df_en_test.set_index('ID')\n",
        "#df_en_test['Score']=scores\n",
        "df_en_test "
      ],
      "metadata": {
        "colab": {
          "base_uri": "https://localhost:8080/",
          "height": 454
        },
        "id": "a8AFgFbKPScp",
        "outputId": "2c891e68-8b82-4d59-ebce-443433e009d9"
      },
      "execution_count": 20,
      "outputs": [
        {
          "output_type": "execute_result",
          "data": {
            "text/html": [
              "\n",
              "  <div id=\"df-dc7322ae-3496-4ed5-a626-35d780a89b60\">\n",
              "    <div class=\"colab-df-container\">\n",
              "      <div>\n",
              "<style scoped>\n",
              "    .dataframe tbody tr th:only-of-type {\n",
              "        vertical-align: middle;\n",
              "    }\n",
              "\n",
              "    .dataframe tbody tr th {\n",
              "        vertical-align: top;\n",
              "    }\n",
              "\n",
              "    .dataframe thead th {\n",
              "        text-align: right;\n",
              "    }\n",
              "</style>\n",
              "<table border=\"1\" class=\"dataframe\">\n",
              "  <thead>\n",
              "    <tr style=\"text-align: right;\">\n",
              "      <th></th>\n",
              "      <th>Construction</th>\n",
              "      <th>Sentence</th>\n",
              "      <th>Scores</th>\n",
              "    </tr>\n",
              "    <tr>\n",
              "      <th>ID</th>\n",
              "      <th></th>\n",
              "      <th></th>\n",
              "      <th></th>\n",
              "    </tr>\n",
              "  </thead>\n",
              "  <tbody>\n",
              "    <tr>\n",
              "      <th>en_0</th>\n",
              "      <td>comparatives</td>\n",
              "      <td>I like governors more than farmers.</td>\n",
              "      <td>5.83</td>\n",
              "    </tr>\n",
              "    <tr>\n",
              "      <th>en_1</th>\n",
              "      <td>unlike</td>\n",
              "      <td>Unlike parrots, cats are often mentioned in th...</td>\n",
              "      <td>4.83</td>\n",
              "    </tr>\n",
              "    <tr>\n",
              "      <th>en_2</th>\n",
              "      <td>unlike</td>\n",
              "      <td>Unlike pines, bushes are often mentioned in th...</td>\n",
              "      <td>4.42</td>\n",
              "    </tr>\n",
              "    <tr>\n",
              "      <th>en_3</th>\n",
              "      <td>ingeneral</td>\n",
              "      <td>I like oaks, and bushes in general.</td>\n",
              "      <td>4.22</td>\n",
              "    </tr>\n",
              "    <tr>\n",
              "      <th>en_4</th>\n",
              "      <td>ingeneral</td>\n",
              "      <td>I like beef, and oysters in general.</td>\n",
              "      <td>2.58</td>\n",
              "    </tr>\n",
              "    <tr>\n",
              "      <th>...</th>\n",
              "      <td>...</td>\n",
              "      <td>...</td>\n",
              "      <td>...</td>\n",
              "    </tr>\n",
              "    <tr>\n",
              "      <th>en_1004</th>\n",
              "      <td>particular</td>\n",
              "      <td>I like hamsters, and in particular sparrows.</td>\n",
              "      <td>1.67</td>\n",
              "    </tr>\n",
              "    <tr>\n",
              "      <th>en_1005</th>\n",
              "      <td>unlike</td>\n",
              "      <td>Unlike forests, concrete is often mentioned in...</td>\n",
              "      <td>4.33</td>\n",
              "    </tr>\n",
              "    <tr>\n",
              "      <th>en_1006</th>\n",
              "      <td>particular</td>\n",
              "      <td>I like trees, and in particular oaks.</td>\n",
              "      <td>6.33</td>\n",
              "    </tr>\n",
              "    <tr>\n",
              "      <th>en_1007</th>\n",
              "      <td>type</td>\n",
              "      <td>I like nature, an interesting type of mall.</td>\n",
              "      <td>1.25</td>\n",
              "    </tr>\n",
              "    <tr>\n",
              "      <th>en_1008</th>\n",
              "      <td>ingeneral</td>\n",
              "      <td>I like senators, and caretakers in general.</td>\n",
              "      <td>3.17</td>\n",
              "    </tr>\n",
              "  </tbody>\n",
              "</table>\n",
              "<p>1009 rows × 3 columns</p>\n",
              "</div>\n",
              "      <button class=\"colab-df-convert\" onclick=\"convertToInteractive('df-dc7322ae-3496-4ed5-a626-35d780a89b60')\"\n",
              "              title=\"Convert this dataframe to an interactive table.\"\n",
              "              style=\"display:none;\">\n",
              "        \n",
              "  <svg xmlns=\"http://www.w3.org/2000/svg\" height=\"24px\"viewBox=\"0 0 24 24\"\n",
              "       width=\"24px\">\n",
              "    <path d=\"M0 0h24v24H0V0z\" fill=\"none\"/>\n",
              "    <path d=\"M18.56 5.44l.94 2.06.94-2.06 2.06-.94-2.06-.94-.94-2.06-.94 2.06-2.06.94zm-11 1L8.5 8.5l.94-2.06 2.06-.94-2.06-.94L8.5 2.5l-.94 2.06-2.06.94zm10 10l.94 2.06.94-2.06 2.06-.94-2.06-.94-.94-2.06-.94 2.06-2.06.94z\"/><path d=\"M17.41 7.96l-1.37-1.37c-.4-.4-.92-.59-1.43-.59-.52 0-1.04.2-1.43.59L10.3 9.45l-7.72 7.72c-.78.78-.78 2.05 0 2.83L4 21.41c.39.39.9.59 1.41.59.51 0 1.02-.2 1.41-.59l7.78-7.78 2.81-2.81c.8-.78.8-2.07 0-2.86zM5.41 20L4 18.59l7.72-7.72 1.47 1.35L5.41 20z\"/>\n",
              "  </svg>\n",
              "      </button>\n",
              "      \n",
              "  <style>\n",
              "    .colab-df-container {\n",
              "      display:flex;\n",
              "      flex-wrap:wrap;\n",
              "      gap: 12px;\n",
              "    }\n",
              "\n",
              "    .colab-df-convert {\n",
              "      background-color: #E8F0FE;\n",
              "      border: none;\n",
              "      border-radius: 50%;\n",
              "      cursor: pointer;\n",
              "      display: none;\n",
              "      fill: #1967D2;\n",
              "      height: 32px;\n",
              "      padding: 0 0 0 0;\n",
              "      width: 32px;\n",
              "    }\n",
              "\n",
              "    .colab-df-convert:hover {\n",
              "      background-color: #E2EBFA;\n",
              "      box-shadow: 0px 1px 2px rgba(60, 64, 67, 0.3), 0px 1px 3px 1px rgba(60, 64, 67, 0.15);\n",
              "      fill: #174EA6;\n",
              "    }\n",
              "\n",
              "    [theme=dark] .colab-df-convert {\n",
              "      background-color: #3B4455;\n",
              "      fill: #D2E3FC;\n",
              "    }\n",
              "\n",
              "    [theme=dark] .colab-df-convert:hover {\n",
              "      background-color: #434B5C;\n",
              "      box-shadow: 0px 1px 3px 1px rgba(0, 0, 0, 0.15);\n",
              "      filter: drop-shadow(0px 1px 2px rgba(0, 0, 0, 0.3));\n",
              "      fill: #FFFFFF;\n",
              "    }\n",
              "  </style>\n",
              "\n",
              "      <script>\n",
              "        const buttonEl =\n",
              "          document.querySelector('#df-dc7322ae-3496-4ed5-a626-35d780a89b60 button.colab-df-convert');\n",
              "        buttonEl.style.display =\n",
              "          google.colab.kernel.accessAllowed ? 'block' : 'none';\n",
              "\n",
              "        async function convertToInteractive(key) {\n",
              "          const element = document.querySelector('#df-dc7322ae-3496-4ed5-a626-35d780a89b60');\n",
              "          const dataTable =\n",
              "            await google.colab.kernel.invokeFunction('convertToInteractive',\n",
              "                                                     [key], {});\n",
              "          if (!dataTable) return;\n",
              "\n",
              "          const docLinkHtml = 'Like what you see? Visit the ' +\n",
              "            '<a target=\"_blank\" href=https://colab.research.google.com/notebooks/data_table.ipynb>data table notebook</a>'\n",
              "            + ' to learn more about interactive tables.';\n",
              "          element.innerHTML = '';\n",
              "          dataTable['output_type'] = 'display_data';\n",
              "          await google.colab.output.renderOutput(dataTable, element);\n",
              "          const docLink = document.createElement('div');\n",
              "          docLink.innerHTML = docLinkHtml;\n",
              "          element.appendChild(docLink);\n",
              "        }\n",
              "      </script>\n",
              "    </div>\n",
              "  </div>\n",
              "  "
            ],
            "text/plain": [
              "         Construction  ... Scores\n",
              "ID                     ...       \n",
              "en_0     comparatives  ...   5.83\n",
              "en_1           unlike  ...   4.83\n",
              "en_2           unlike  ...   4.42\n",
              "en_3        ingeneral  ...   4.22\n",
              "en_4        ingeneral  ...   2.58\n",
              "...               ...  ...    ...\n",
              "en_1004    particular  ...   1.67\n",
              "en_1005        unlike  ...   4.33\n",
              "en_1006    particular  ...   6.33\n",
              "en_1007          type  ...   1.25\n",
              "en_1008     ingeneral  ...   3.17\n",
              "\n",
              "[1009 rows x 3 columns]"
            ]
          },
          "metadata": {},
          "execution_count": 20
        }
      ]
    },
    {
      "cell_type": "markdown",
      "source": [
        "## Call best model and Save best output English"
      ],
      "metadata": {
        "id": "q-CBqBXjPi9N"
      }
    },
    {
      "cell_type": "code",
      "source": [
        "classifiers=['svm','knr','dt','lr']\n",
        "max_rho=(float('-inf'),\"\")"
      ],
      "metadata": {
        "id": "UQmPvXP_vwA2"
      },
      "execution_count": 21,
      "outputs": []
    },
    {
      "cell_type": "code",
      "source": [
        "for classifier in classifiers:\n",
        "  results,scores=use(df_en_train,df_en_test,classifier)\n",
        "  print('English results on model--USE--->',classifier)\n",
        "  print(results)"
      ],
      "metadata": {
        "id": "LtLD8HG5vUmc",
        "colab": {
          "base_uri": "https://localhost:8080/"
        },
        "outputId": "daa90787-0642-44c7-bc90-06473d39a5a9"
      },
      "execution_count": 23,
      "outputs": [
        {
          "output_type": "stream",
          "name": "stdout",
          "text": [
            "English results on model--USE---> svm\n",
            "[{'mse': 1.7739946655595118, 'rmse': 1.3319139107162714, 'rho': 0.4780457951397609, 'p-value': 9.664365788469291e-59, 'eval_pred': array([4.83009541, 4.38265254, 4.16041709, ..., 3.05867933, 2.36724705,\n",
            "       3.96661343]), 'eval_labels': array([5.83, 4.83, 4.42, ..., 6.33, 1.25, 3.17])}]\n",
            "English results on model--USE---> knr\n",
            "[{'mse': 2.5861947869177406, 'rmse': 1.608165037214073, 'rho': 0.2352512177404732, 'p-value': 3.734456062999287e-14, 'eval_pred': array([5.422, 4.79 , 4.856, ..., 3.66 , 2.094, 4.828]), 'eval_labels': array([5.83, 4.83, 4.42, ..., 6.33, 1.25, 3.17])}]\n",
            "English results on model--USE---> dt\n",
            "[{'mse': 4.319979088206144, 'rmse': 2.07845593848081, 'rho': 0.1177786819629239, 'p-value': 0.00017709440082689181, 'eval_pred': array([3.  , 4.58, 6.  , ..., 1.5 , 2.75, 4.56]), 'eval_labels': array([5.83, 4.83, 4.42, ..., 6.33, 1.25, 3.17])}]\n",
            "English results on model--USE---> lr\n",
            "[{'mse': 46243.96544919399, 'rmse': 215.04410117274546, 'rho': -0.17484859390912347, 'p-value': 2.2673450657855903e-08, 'eval_pred': array([  79.10307 , -364.67535 , -382.30618 , ...,  -23.694515,\n",
            "        218.47661 , -116.100266], dtype=float32), 'eval_labels': array([5.83, 4.83, 4.42, ..., 6.33, 1.25, 3.17])}]\n"
          ]
        }
      ]
    },
    {
      "cell_type": "code",
      "source": [
        "for ngram in range(2,5):  \n",
        "  for classifier in classifiers:\n",
        "    results,scores=tfidf(df_en_train,df_en_test,classifier,ngram)\n",
        "    print('English results on model--TF-IDF--->',classifier,' --> n grams:  ',ngram)\n",
        "    print(results)"
      ],
      "metadata": {
        "id": "q78bUE81vdDm",
        "colab": {
          "base_uri": "https://localhost:8080/"
        },
        "outputId": "13da2f80-34d7-4b35-bab9-87dbc527daec"
      },
      "execution_count": 24,
      "outputs": [
        {
          "output_type": "stream",
          "name": "stdout",
          "text": [
            "English results on model--TF-IDF---> svm  --> n grams:   2\n",
            "[{'mse': 5.035104242701886, 'rmse': 2.243903795331227, 'rho': 0.2465675098369179, 'p-value': 1.93509937182417e-15, 'eval_pred': array([6.13397774, 5.6859524 , 5.61527975, ..., 4.51482026, 0.1411881 ,\n",
            "       5.67590369]), 'eval_labels': array([5.83, 4.83, 4.42, ..., 6.33, 1.25, 3.17])}]\n",
            "English results on model--TF-IDF---> knr  --> n grams:   2\n",
            "[{'mse': 3.665286299306244, 'rmse': 1.914493744911757, 'rho': 0.0767814720478785, 'p-value': 0.014706632414229776, 'eval_pred': array([3.428, 5.274, 4.782, ..., 4.384, 2.298, 4.58 ]), 'eval_labels': array([5.83, 4.83, 4.42, ..., 6.33, 1.25, 3.17])}]\n",
            "English results on model--TF-IDF---> dt  --> n grams:   2\n",
            "[{'mse': 4.693415956392467, 'rmse': 2.166429310268966, 'rho': 0.13449971340364106, 'p-value': 1.814723657960269e-05, 'eval_pred': array([3.5 , 5.75, 4.25, ..., 5.67, 2.74, 5.75]), 'eval_labels': array([5.83, 4.83, 4.42, ..., 6.33, 1.25, 3.17])}]\n",
            "English results on model--TF-IDF---> lr  --> n grams:   2\n",
            "[{'mse': 11.555380423863497, 'rmse': 3.3993205826846484, 'rho': 0.08580094301597302, 'p-value': 0.006389398753765162, 'eval_pred': array([8.01723956, 5.85999504, 4.58494298, ..., 2.22454043, 0.35726026,\n",
            "       8.70832728]), 'eval_labels': array([5.83, 4.83, 4.42, ..., 6.33, 1.25, 3.17])}]\n",
            "English results on model--TF-IDF---> svm  --> n grams:   3\n",
            "[{'mse': 5.7883143652074125, 'rmse': 2.4058915946499777, 'rho': 0.2649596943871941, 'p-value': 1.1347260793357567e-17, 'eval_pred': array([6.13482724, 5.93995204, 5.92468454, ..., 4.75431031, 0.38391196,\n",
            "       5.9415239 ]), 'eval_labels': array([5.83, 4.83, 4.42, ..., 6.33, 1.25, 3.17])}]\n",
            "English results on model--TF-IDF---> knr  --> n grams:   3\n",
            "[{'mse': 3.7436048919722493, 'rmse': 1.9348397587325543, 'rho': 0.08901405736635126, 'p-value': 0.004660274481389866, 'eval_pred': array([3.518, 5.374, 4.886, ..., 4.384, 2.314, 4.716]), 'eval_labels': array([5.83, 4.83, 4.42, ..., 6.33, 1.25, 3.17])}]\n",
            "English results on model--TF-IDF---> dt  --> n grams:   3\n",
            "[{'mse': 5.127241328047572, 'rmse': 2.2643412569768655, 'rho': -0.056246974691439244, 'p-value': 0.07412016164544281, 'eval_pred': array([1.64, 5.5 , 5.  , ..., 4.08, 1.67, 5.83]), 'eval_labels': array([5.83, 4.83, 4.42, ..., 6.33, 1.25, 3.17])}]\n",
            "English results on model--TF-IDF---> lr  --> n grams:   3\n",
            "[{'mse': 12.458491745732223, 'rmse': 3.529658871014623, 'rho': 0.15824119952124985, 'p-value': 4.3691796786356963e-07, 'eval_pred': array([ 8.76299528,  6.22771935,  4.94867696, ...,  2.31249786,\n",
            "       -0.33275305,  8.71829507]), 'eval_labels': array([5.83, 4.83, 4.42, ..., 6.33, 1.25, 3.17])}]\n",
            "English results on model--TF-IDF---> svm  --> n grams:   4\n",
            "[{'mse': 6.801878823448822, 'rmse': 2.6080411851519565, 'rho': 0.2163988558400529, 'p-value': 3.709666749481185e-12, 'eval_pred': array([6.36835919, 6.22519356, 6.21603538, ..., 5.00583868, 0.99162429,\n",
            "       6.22878079]), 'eval_labels': array([5.83, 4.83, 4.42, ..., 6.33, 1.25, 3.17])}]\n",
            "English results on model--TF-IDF---> knr  --> n grams:   4\n",
            "[{'mse': 3.667114041625372, 'rmse': 1.9149710289258612, 'rho': 0.08755741091663947, 'p-value': 0.005383570592872253, 'eval_pred': array([3.428, 5.374, 4.736, ..., 4.384, 2.264, 4.58 ]), 'eval_labels': array([5.83, 4.83, 4.42, ..., 6.33, 1.25, 3.17])}]\n",
            "English results on model--TF-IDF---> dt  --> n grams:   4\n",
            "[{'mse': 4.034135877106046, 'rmse': 2.008515839396355, 'rho': 0.2220778703279884, 'p-value': 9.694007179038527e-13, 'eval_pred': array([6.08, 5.58, 5.5 , ..., 4.08, 2.74, 5.33]), 'eval_labels': array([5.83, 4.83, 4.42, ..., 6.33, 1.25, 3.17])}]\n",
            "English results on model--TF-IDF---> lr  --> n grams:   4\n",
            "[{'mse': 14.533072040295794, 'rmse': 3.8122266512231135, 'rho': 0.16744480185248545, 'p-value': 8.792194019586213e-08, 'eval_pred': array([ 9.4476294 ,  6.53417601,  5.16851061, ...,  2.32193739,\n",
            "       -0.72384636,  9.09975697]), 'eval_labels': array([5.83, 4.83, 4.42, ..., 6.33, 1.25, 3.17])}]\n"
          ]
        }
      ]
    },
    {
      "cell_type": "markdown",
      "source": [
        "call final model"
      ],
      "metadata": {
        "id": "kqXqQZINvlDB"
      }
    },
    {
      "cell_type": "code",
      "source": [
        "en_results,en_scores=use(df_en_train,df_en_test,'svm')\n",
        "en_results"
      ],
      "metadata": {
        "colab": {
          "base_uri": "https://localhost:8080/"
        },
        "id": "BPoj8jVtPigJ",
        "outputId": "ce702be1-f0b2-42b6-9282-ec9caa938f09"
      },
      "execution_count": 25,
      "outputs": [
        {
          "output_type": "execute_result",
          "data": {
            "text/plain": [
              "[{'eval_labels': array([5.83, 4.83, 4.42, ..., 6.33, 1.25, 3.17]),\n",
              "  'eval_pred': array([4.83009541, 4.38265254, 4.16041709, ..., 3.05867933, 2.36724705,\n",
              "         3.96661343]),\n",
              "  'mse': 1.7739946655595118,\n",
              "  'p-value': 9.664365788469291e-59,\n",
              "  'rho': 0.4780457951397609,\n",
              "  'rmse': 1.3319139107162714}]"
            ]
          },
          "metadata": {},
          "execution_count": 25
        }
      ]
    },
    {
      "cell_type": "code",
      "source": [
        "df_en_test['Score']=en_scores\n",
        "del df_en_test['Sentence_emb']\n",
        "df_en_test"
      ],
      "metadata": {
        "colab": {
          "base_uri": "https://localhost:8080/",
          "height": 454
        },
        "id": "qNx9gpY8kD2d",
        "outputId": "0b8b9a1b-dae2-47f8-8762-ff98cc280bce"
      },
      "execution_count": 26,
      "outputs": [
        {
          "output_type": "execute_result",
          "data": {
            "text/html": [
              "\n",
              "  <div id=\"df-ee6a3fc6-8080-4d5c-a21a-2f77c4e0bb80\">\n",
              "    <div class=\"colab-df-container\">\n",
              "      <div>\n",
              "<style scoped>\n",
              "    .dataframe tbody tr th:only-of-type {\n",
              "        vertical-align: middle;\n",
              "    }\n",
              "\n",
              "    .dataframe tbody tr th {\n",
              "        vertical-align: top;\n",
              "    }\n",
              "\n",
              "    .dataframe thead th {\n",
              "        text-align: right;\n",
              "    }\n",
              "</style>\n",
              "<table border=\"1\" class=\"dataframe\">\n",
              "  <thead>\n",
              "    <tr style=\"text-align: right;\">\n",
              "      <th></th>\n",
              "      <th>Construction</th>\n",
              "      <th>Sentence</th>\n",
              "      <th>Scores</th>\n",
              "      <th>Score</th>\n",
              "    </tr>\n",
              "    <tr>\n",
              "      <th>ID</th>\n",
              "      <th></th>\n",
              "      <th></th>\n",
              "      <th></th>\n",
              "      <th></th>\n",
              "    </tr>\n",
              "  </thead>\n",
              "  <tbody>\n",
              "    <tr>\n",
              "      <th>en_0</th>\n",
              "      <td>comparatives</td>\n",
              "      <td>I like governors more than farmers.</td>\n",
              "      <td>5.83</td>\n",
              "      <td>4.830095</td>\n",
              "    </tr>\n",
              "    <tr>\n",
              "      <th>en_1</th>\n",
              "      <td>unlike</td>\n",
              "      <td>Unlike parrots, cats are often mentioned in th...</td>\n",
              "      <td>4.83</td>\n",
              "      <td>4.382653</td>\n",
              "    </tr>\n",
              "    <tr>\n",
              "      <th>en_2</th>\n",
              "      <td>unlike</td>\n",
              "      <td>Unlike pines, bushes are often mentioned in th...</td>\n",
              "      <td>4.42</td>\n",
              "      <td>4.160417</td>\n",
              "    </tr>\n",
              "    <tr>\n",
              "      <th>en_3</th>\n",
              "      <td>ingeneral</td>\n",
              "      <td>I like oaks, and bushes in general.</td>\n",
              "      <td>4.22</td>\n",
              "      <td>4.200822</td>\n",
              "    </tr>\n",
              "    <tr>\n",
              "      <th>en_4</th>\n",
              "      <td>ingeneral</td>\n",
              "      <td>I like beef, and oysters in general.</td>\n",
              "      <td>2.58</td>\n",
              "      <td>4.418871</td>\n",
              "    </tr>\n",
              "    <tr>\n",
              "      <th>...</th>\n",
              "      <td>...</td>\n",
              "      <td>...</td>\n",
              "      <td>...</td>\n",
              "      <td>...</td>\n",
              "    </tr>\n",
              "    <tr>\n",
              "      <th>en_1004</th>\n",
              "      <td>particular</td>\n",
              "      <td>I like hamsters, and in particular sparrows.</td>\n",
              "      <td>1.67</td>\n",
              "      <td>3.610609</td>\n",
              "    </tr>\n",
              "    <tr>\n",
              "      <th>en_1005</th>\n",
              "      <td>unlike</td>\n",
              "      <td>Unlike forests, concrete is often mentioned in...</td>\n",
              "      <td>4.33</td>\n",
              "      <td>3.990366</td>\n",
              "    </tr>\n",
              "    <tr>\n",
              "      <th>en_1006</th>\n",
              "      <td>particular</td>\n",
              "      <td>I like trees, and in particular oaks.</td>\n",
              "      <td>6.33</td>\n",
              "      <td>3.058679</td>\n",
              "    </tr>\n",
              "    <tr>\n",
              "      <th>en_1007</th>\n",
              "      <td>type</td>\n",
              "      <td>I like nature, an interesting type of mall.</td>\n",
              "      <td>1.25</td>\n",
              "      <td>2.367247</td>\n",
              "    </tr>\n",
              "    <tr>\n",
              "      <th>en_1008</th>\n",
              "      <td>ingeneral</td>\n",
              "      <td>I like senators, and caretakers in general.</td>\n",
              "      <td>3.17</td>\n",
              "      <td>3.966613</td>\n",
              "    </tr>\n",
              "  </tbody>\n",
              "</table>\n",
              "<p>1009 rows × 4 columns</p>\n",
              "</div>\n",
              "      <button class=\"colab-df-convert\" onclick=\"convertToInteractive('df-ee6a3fc6-8080-4d5c-a21a-2f77c4e0bb80')\"\n",
              "              title=\"Convert this dataframe to an interactive table.\"\n",
              "              style=\"display:none;\">\n",
              "        \n",
              "  <svg xmlns=\"http://www.w3.org/2000/svg\" height=\"24px\"viewBox=\"0 0 24 24\"\n",
              "       width=\"24px\">\n",
              "    <path d=\"M0 0h24v24H0V0z\" fill=\"none\"/>\n",
              "    <path d=\"M18.56 5.44l.94 2.06.94-2.06 2.06-.94-2.06-.94-.94-2.06-.94 2.06-2.06.94zm-11 1L8.5 8.5l.94-2.06 2.06-.94-2.06-.94L8.5 2.5l-.94 2.06-2.06.94zm10 10l.94 2.06.94-2.06 2.06-.94-2.06-.94-.94-2.06-.94 2.06-2.06.94z\"/><path d=\"M17.41 7.96l-1.37-1.37c-.4-.4-.92-.59-1.43-.59-.52 0-1.04.2-1.43.59L10.3 9.45l-7.72 7.72c-.78.78-.78 2.05 0 2.83L4 21.41c.39.39.9.59 1.41.59.51 0 1.02-.2 1.41-.59l7.78-7.78 2.81-2.81c.8-.78.8-2.07 0-2.86zM5.41 20L4 18.59l7.72-7.72 1.47 1.35L5.41 20z\"/>\n",
              "  </svg>\n",
              "      </button>\n",
              "      \n",
              "  <style>\n",
              "    .colab-df-container {\n",
              "      display:flex;\n",
              "      flex-wrap:wrap;\n",
              "      gap: 12px;\n",
              "    }\n",
              "\n",
              "    .colab-df-convert {\n",
              "      background-color: #E8F0FE;\n",
              "      border: none;\n",
              "      border-radius: 50%;\n",
              "      cursor: pointer;\n",
              "      display: none;\n",
              "      fill: #1967D2;\n",
              "      height: 32px;\n",
              "      padding: 0 0 0 0;\n",
              "      width: 32px;\n",
              "    }\n",
              "\n",
              "    .colab-df-convert:hover {\n",
              "      background-color: #E2EBFA;\n",
              "      box-shadow: 0px 1px 2px rgba(60, 64, 67, 0.3), 0px 1px 3px 1px rgba(60, 64, 67, 0.15);\n",
              "      fill: #174EA6;\n",
              "    }\n",
              "\n",
              "    [theme=dark] .colab-df-convert {\n",
              "      background-color: #3B4455;\n",
              "      fill: #D2E3FC;\n",
              "    }\n",
              "\n",
              "    [theme=dark] .colab-df-convert:hover {\n",
              "      background-color: #434B5C;\n",
              "      box-shadow: 0px 1px 3px 1px rgba(0, 0, 0, 0.15);\n",
              "      filter: drop-shadow(0px 1px 2px rgba(0, 0, 0, 0.3));\n",
              "      fill: #FFFFFF;\n",
              "    }\n",
              "  </style>\n",
              "\n",
              "      <script>\n",
              "        const buttonEl =\n",
              "          document.querySelector('#df-ee6a3fc6-8080-4d5c-a21a-2f77c4e0bb80 button.colab-df-convert');\n",
              "        buttonEl.style.display =\n",
              "          google.colab.kernel.accessAllowed ? 'block' : 'none';\n",
              "\n",
              "        async function convertToInteractive(key) {\n",
              "          const element = document.querySelector('#df-ee6a3fc6-8080-4d5c-a21a-2f77c4e0bb80');\n",
              "          const dataTable =\n",
              "            await google.colab.kernel.invokeFunction('convertToInteractive',\n",
              "                                                     [key], {});\n",
              "          if (!dataTable) return;\n",
              "\n",
              "          const docLinkHtml = 'Like what you see? Visit the ' +\n",
              "            '<a target=\"_blank\" href=https://colab.research.google.com/notebooks/data_table.ipynb>data table notebook</a>'\n",
              "            + ' to learn more about interactive tables.';\n",
              "          element.innerHTML = '';\n",
              "          dataTable['output_type'] = 'display_data';\n",
              "          await google.colab.output.renderOutput(dataTable, element);\n",
              "          const docLink = document.createElement('div');\n",
              "          docLink.innerHTML = docLinkHtml;\n",
              "          element.appendChild(docLink);\n",
              "        }\n",
              "      </script>\n",
              "    </div>\n",
              "  </div>\n",
              "  "
            ],
            "text/plain": [
              "         Construction  ...     Score\n",
              "ID                     ...          \n",
              "en_0     comparatives  ...  4.830095\n",
              "en_1           unlike  ...  4.382653\n",
              "en_2           unlike  ...  4.160417\n",
              "en_3        ingeneral  ...  4.200822\n",
              "en_4        ingeneral  ...  4.418871\n",
              "...               ...  ...       ...\n",
              "en_1004    particular  ...  3.610609\n",
              "en_1005        unlike  ...  3.990366\n",
              "en_1006    particular  ...  3.058679\n",
              "en_1007          type  ...  2.367247\n",
              "en_1008     ingeneral  ...  3.966613\n",
              "\n",
              "[1009 rows x 4 columns]"
            ]
          },
          "metadata": {},
          "execution_count": 26
        }
      ]
    },
    {
      "cell_type": "code",
      "source": [
        "from google.colab import files\n",
        "df_en_test.to_csv('answer_english_with_sent.csv') \n",
        "files.download('answer_english_with_sent.csv')"
      ],
      "metadata": {
        "colab": {
          "base_uri": "https://localhost:8080/",
          "height": 34
        },
        "id": "UO2jCwFnkLdl",
        "outputId": "11d16f4f-6a4c-4c82-ceb6-c087268a7817"
      },
      "execution_count": 27,
      "outputs": [
        {
          "output_type": "display_data",
          "data": {
            "application/javascript": [
              "\n",
              "    async function download(id, filename, size) {\n",
              "      if (!google.colab.kernel.accessAllowed) {\n",
              "        return;\n",
              "      }\n",
              "      const div = document.createElement('div');\n",
              "      const label = document.createElement('label');\n",
              "      label.textContent = `Downloading \"${filename}\": `;\n",
              "      div.appendChild(label);\n",
              "      const progress = document.createElement('progress');\n",
              "      progress.max = size;\n",
              "      div.appendChild(progress);\n",
              "      document.body.appendChild(div);\n",
              "\n",
              "      const buffers = [];\n",
              "      let downloaded = 0;\n",
              "\n",
              "      const channel = await google.colab.kernel.comms.open(id);\n",
              "      // Send a message to notify the kernel that we're ready.\n",
              "      channel.send({})\n",
              "\n",
              "      for await (const message of channel.messages) {\n",
              "        // Send a message to notify the kernel that we're ready.\n",
              "        channel.send({})\n",
              "        if (message.buffers) {\n",
              "          for (const buffer of message.buffers) {\n",
              "            buffers.push(buffer);\n",
              "            downloaded += buffer.byteLength;\n",
              "            progress.value = downloaded;\n",
              "          }\n",
              "        }\n",
              "      }\n",
              "      const blob = new Blob(buffers, {type: 'application/binary'});\n",
              "      const a = document.createElement('a');\n",
              "      a.href = window.URL.createObjectURL(blob);\n",
              "      a.download = filename;\n",
              "      div.appendChild(a);\n",
              "      a.click();\n",
              "      div.remove();\n",
              "    }\n",
              "  "
            ],
            "text/plain": [
              "<IPython.core.display.Javascript object>"
            ]
          },
          "metadata": {}
        },
        {
          "output_type": "display_data",
          "data": {
            "application/javascript": [
              "download(\"download_50d4e012-9bd8-4f62-bd1e-295df55e7d82\", \"answer_english_with_sent.csv\", 84413)"
            ],
            "text/plain": [
              "<IPython.core.display.Javascript object>"
            ]
          },
          "metadata": {}
        }
      ]
    },
    {
      "cell_type": "markdown",
      "source": [
        "# French"
      ],
      "metadata": {
        "id": "-s5s46KggvNm"
      }
    },
    {
      "cell_type": "markdown",
      "source": [
        "## Train"
      ],
      "metadata": {
        "id": "eq7VkaevhK4K"
      }
    },
    {
      "cell_type": "code",
      "source": [
        "data_url = 'https://raw.githubusercontent.com/shammur/SemEval2022Task3/main/data/train/train_subtask-2/fr/'\n",
        "folds = [pd.read_csv(os.path.join(data_url, 'Fr-Subtask2-fold_{}.tsv'.format(i)), sep='\\t') \\\n",
        "         for i in range(2)] #reading all folds from GitHub\n",
        "\n",
        "df_fr_train = pd.concat(folds[0:2]) \n",
        "df_fr_train"
      ],
      "metadata": {
        "colab": {
          "base_uri": "https://localhost:8080/",
          "height": 424
        },
        "outputId": "df3f3769-398b-49be-b62f-6ffaaf4255ad",
        "id": "6E-zAW3AhK4L"
      },
      "execution_count": 28,
      "outputs": [
        {
          "output_type": "execute_result",
          "data": {
            "text/html": [
              "\n",
              "  <div id=\"df-8d81de73-bbea-42cf-8523-8077d36fd58d\">\n",
              "    <div class=\"colab-df-container\">\n",
              "      <div>\n",
              "<style scoped>\n",
              "    .dataframe tbody tr th:only-of-type {\n",
              "        vertical-align: middle;\n",
              "    }\n",
              "\n",
              "    .dataframe tbody tr th {\n",
              "        vertical-align: top;\n",
              "    }\n",
              "\n",
              "    .dataframe thead th {\n",
              "        text-align: right;\n",
              "    }\n",
              "</style>\n",
              "<table border=\"1\" class=\"dataframe\">\n",
              "  <thead>\n",
              "    <tr style=\"text-align: right;\">\n",
              "      <th></th>\n",
              "      <th>ID</th>\n",
              "      <th>Sentence</th>\n",
              "      <th>Score</th>\n",
              "    </tr>\n",
              "  </thead>\n",
              "  <tbody>\n",
              "    <tr>\n",
              "      <th>0</th>\n",
              "      <td>110</td>\n",
              "      <td>J'adore le boeuf, mais pas les crabes.</td>\n",
              "      <td>5.08</td>\n",
              "    </tr>\n",
              "    <tr>\n",
              "      <th>1</th>\n",
              "      <td>230</td>\n",
              "      <td>J'adore le boeuf, un type intéressant de saumon.</td>\n",
              "      <td>1.00</td>\n",
              "    </tr>\n",
              "    <tr>\n",
              "      <th>2</th>\n",
              "      <td>36</td>\n",
              "      <td>J'aime les oiseaux, mais pas les moineaux.</td>\n",
              "      <td>5.92</td>\n",
              "    </tr>\n",
              "    <tr>\n",
              "      <th>3</th>\n",
              "      <td>128</td>\n",
              "      <td>J'adore la dinde, mais pas le caviar.</td>\n",
              "      <td>5.92</td>\n",
              "    </tr>\n",
              "    <tr>\n",
              "      <th>4</th>\n",
              "      <td>114</td>\n",
              "      <td>J'adore les produits de la mer, mais pas les h...</td>\n",
              "      <td>6.08</td>\n",
              "    </tr>\n",
              "    <tr>\n",
              "      <th>...</th>\n",
              "      <td>...</td>\n",
              "      <td>...</td>\n",
              "      <td>...</td>\n",
              "    </tr>\n",
              "    <tr>\n",
              "      <th>257</th>\n",
              "      <td>224</td>\n",
              "      <td>J'adore le veau, un type intéressant de saumon.</td>\n",
              "      <td>1.08</td>\n",
              "    </tr>\n",
              "    <tr>\n",
              "      <th>258</th>\n",
              "      <td>249</td>\n",
              "      <td>J'adore la dinde, un type intéressant de huîtres.</td>\n",
              "      <td>1.17</td>\n",
              "    </tr>\n",
              "    <tr>\n",
              "      <th>259</th>\n",
              "      <td>143</td>\n",
              "      <td>J'aime les oiseaux, un type intéressant de chien.</td>\n",
              "      <td>1.42</td>\n",
              "    </tr>\n",
              "    <tr>\n",
              "      <th>260</th>\n",
              "      <td>88</td>\n",
              "      <td>J'adore le poulet, mais pas le saumon.</td>\n",
              "      <td>6.08</td>\n",
              "    </tr>\n",
              "    <tr>\n",
              "      <th>261</th>\n",
              "      <td>227</td>\n",
              "      <td>J'adore la dinde, un type intéressant de saumon.</td>\n",
              "      <td>1.33</td>\n",
              "    </tr>\n",
              "  </tbody>\n",
              "</table>\n",
              "<p>524 rows × 3 columns</p>\n",
              "</div>\n",
              "      <button class=\"colab-df-convert\" onclick=\"convertToInteractive('df-8d81de73-bbea-42cf-8523-8077d36fd58d')\"\n",
              "              title=\"Convert this dataframe to an interactive table.\"\n",
              "              style=\"display:none;\">\n",
              "        \n",
              "  <svg xmlns=\"http://www.w3.org/2000/svg\" height=\"24px\"viewBox=\"0 0 24 24\"\n",
              "       width=\"24px\">\n",
              "    <path d=\"M0 0h24v24H0V0z\" fill=\"none\"/>\n",
              "    <path d=\"M18.56 5.44l.94 2.06.94-2.06 2.06-.94-2.06-.94-.94-2.06-.94 2.06-2.06.94zm-11 1L8.5 8.5l.94-2.06 2.06-.94-2.06-.94L8.5 2.5l-.94 2.06-2.06.94zm10 10l.94 2.06.94-2.06 2.06-.94-2.06-.94-.94-2.06-.94 2.06-2.06.94z\"/><path d=\"M17.41 7.96l-1.37-1.37c-.4-.4-.92-.59-1.43-.59-.52 0-1.04.2-1.43.59L10.3 9.45l-7.72 7.72c-.78.78-.78 2.05 0 2.83L4 21.41c.39.39.9.59 1.41.59.51 0 1.02-.2 1.41-.59l7.78-7.78 2.81-2.81c.8-.78.8-2.07 0-2.86zM5.41 20L4 18.59l7.72-7.72 1.47 1.35L5.41 20z\"/>\n",
              "  </svg>\n",
              "      </button>\n",
              "      \n",
              "  <style>\n",
              "    .colab-df-container {\n",
              "      display:flex;\n",
              "      flex-wrap:wrap;\n",
              "      gap: 12px;\n",
              "    }\n",
              "\n",
              "    .colab-df-convert {\n",
              "      background-color: #E8F0FE;\n",
              "      border: none;\n",
              "      border-radius: 50%;\n",
              "      cursor: pointer;\n",
              "      display: none;\n",
              "      fill: #1967D2;\n",
              "      height: 32px;\n",
              "      padding: 0 0 0 0;\n",
              "      width: 32px;\n",
              "    }\n",
              "\n",
              "    .colab-df-convert:hover {\n",
              "      background-color: #E2EBFA;\n",
              "      box-shadow: 0px 1px 2px rgba(60, 64, 67, 0.3), 0px 1px 3px 1px rgba(60, 64, 67, 0.15);\n",
              "      fill: #174EA6;\n",
              "    }\n",
              "\n",
              "    [theme=dark] .colab-df-convert {\n",
              "      background-color: #3B4455;\n",
              "      fill: #D2E3FC;\n",
              "    }\n",
              "\n",
              "    [theme=dark] .colab-df-convert:hover {\n",
              "      background-color: #434B5C;\n",
              "      box-shadow: 0px 1px 3px 1px rgba(0, 0, 0, 0.15);\n",
              "      filter: drop-shadow(0px 1px 2px rgba(0, 0, 0, 0.3));\n",
              "      fill: #FFFFFF;\n",
              "    }\n",
              "  </style>\n",
              "\n",
              "      <script>\n",
              "        const buttonEl =\n",
              "          document.querySelector('#df-8d81de73-bbea-42cf-8523-8077d36fd58d button.colab-df-convert');\n",
              "        buttonEl.style.display =\n",
              "          google.colab.kernel.accessAllowed ? 'block' : 'none';\n",
              "\n",
              "        async function convertToInteractive(key) {\n",
              "          const element = document.querySelector('#df-8d81de73-bbea-42cf-8523-8077d36fd58d');\n",
              "          const dataTable =\n",
              "            await google.colab.kernel.invokeFunction('convertToInteractive',\n",
              "                                                     [key], {});\n",
              "          if (!dataTable) return;\n",
              "\n",
              "          const docLinkHtml = 'Like what you see? Visit the ' +\n",
              "            '<a target=\"_blank\" href=https://colab.research.google.com/notebooks/data_table.ipynb>data table notebook</a>'\n",
              "            + ' to learn more about interactive tables.';\n",
              "          element.innerHTML = '';\n",
              "          dataTable['output_type'] = 'display_data';\n",
              "          await google.colab.output.renderOutput(dataTable, element);\n",
              "          const docLink = document.createElement('div');\n",
              "          docLink.innerHTML = docLinkHtml;\n",
              "          element.appendChild(docLink);\n",
              "        }\n",
              "      </script>\n",
              "    </div>\n",
              "  </div>\n",
              "  "
            ],
            "text/plain": [
              "      ID                                           Sentence  Score\n",
              "0    110             J'adore le boeuf, mais pas les crabes.   5.08\n",
              "1    230   J'adore le boeuf, un type intéressant de saumon.   1.00\n",
              "2     36         J'aime les oiseaux, mais pas les moineaux.   5.92\n",
              "3    128              J'adore la dinde, mais pas le caviar.   5.92\n",
              "4    114  J'adore les produits de la mer, mais pas les h...   6.08\n",
              "..   ...                                                ...    ...\n",
              "257  224    J'adore le veau, un type intéressant de saumon.   1.08\n",
              "258  249  J'adore la dinde, un type intéressant de huîtres.   1.17\n",
              "259  143  J'aime les oiseaux, un type intéressant de chien.   1.42\n",
              "260   88             J'adore le poulet, mais pas le saumon.   6.08\n",
              "261  227   J'adore la dinde, un type intéressant de saumon.   1.33\n",
              "\n",
              "[524 rows x 3 columns]"
            ]
          },
          "metadata": {},
          "execution_count": 28
        }
      ]
    },
    {
      "cell_type": "code",
      "source": [
        "import base64\n",
        "import requests\n",
        "import pandas as pd\n",
        "df_fr_test = pd.read_csv('https://raw.githubusercontent.com/shammur/SemEval2022Task3/main/data/test/official_test_set_with_labels/subtask-2/Fr-Subtask2-scores.tsv', sep='\\t')\n",
        "df_fr_test=df_fr_test.set_index('ID')\n",
        "scores=[random.uniform(1.0,7.0)]*1009 \n",
        "\n",
        "df_fr_test['Score']=scores\n",
        "df_fr_test "
      ],
      "metadata": {
        "id": "Lx8CiOf-hK4M",
        "colab": {
          "base_uri": "https://localhost:8080/",
          "height": 454
        },
        "outputId": "cf5ab824-2444-442f-885a-0633346b4960"
      },
      "execution_count": 29,
      "outputs": [
        {
          "output_type": "execute_result",
          "data": {
            "text/html": [
              "\n",
              "  <div id=\"df-d7648fb0-56f3-4c77-8586-aa649564ba00\">\n",
              "    <div class=\"colab-df-container\">\n",
              "      <div>\n",
              "<style scoped>\n",
              "    .dataframe tbody tr th:only-of-type {\n",
              "        vertical-align: middle;\n",
              "    }\n",
              "\n",
              "    .dataframe tbody tr th {\n",
              "        vertical-align: top;\n",
              "    }\n",
              "\n",
              "    .dataframe thead th {\n",
              "        text-align: right;\n",
              "    }\n",
              "</style>\n",
              "<table border=\"1\" class=\"dataframe\">\n",
              "  <thead>\n",
              "    <tr style=\"text-align: right;\">\n",
              "      <th></th>\n",
              "      <th>Construction</th>\n",
              "      <th>Sentence</th>\n",
              "      <th>Scores</th>\n",
              "      <th>Score</th>\n",
              "    </tr>\n",
              "    <tr>\n",
              "      <th>ID</th>\n",
              "      <th></th>\n",
              "      <th></th>\n",
              "      <th></th>\n",
              "      <th></th>\n",
              "    </tr>\n",
              "  </thead>\n",
              "  <tbody>\n",
              "    <tr>\n",
              "      <th>fr_0</th>\n",
              "      <td>ingeneral</td>\n",
              "      <td>J'aime les buissons, et les sapins en général.</td>\n",
              "      <td>3.25</td>\n",
              "      <td>2.794975</td>\n",
              "    </tr>\n",
              "    <tr>\n",
              "      <th>fr_1</th>\n",
              "      <td>ingeneral</td>\n",
              "      <td>J'aime les produits de la mer, et le caviar en...</td>\n",
              "      <td>4.08</td>\n",
              "      <td>2.794975</td>\n",
              "    </tr>\n",
              "    <tr>\n",
              "      <th>fr_2</th>\n",
              "      <td>particular</td>\n",
              "      <td>J'apprécie les conducteurs, et en particulier ...</td>\n",
              "      <td>1.67</td>\n",
              "      <td>2.794975</td>\n",
              "    </tr>\n",
              "    <tr>\n",
              "      <th>fr_3</th>\n",
              "      <td>particular</td>\n",
              "      <td>J'apprécie les politiciens, et en particulier ...</td>\n",
              "      <td>2.42</td>\n",
              "      <td>2.794975</td>\n",
              "    </tr>\n",
              "    <tr>\n",
              "      <th>fr_4</th>\n",
              "      <td>ingeneral</td>\n",
              "      <td>J'aime les huîtres, et le veau en général.</td>\n",
              "      <td>3.25</td>\n",
              "      <td>2.794975</td>\n",
              "    </tr>\n",
              "    <tr>\n",
              "      <th>...</th>\n",
              "      <td>...</td>\n",
              "      <td>...</td>\n",
              "      <td>...</td>\n",
              "      <td>...</td>\n",
              "    </tr>\n",
              "    <tr>\n",
              "      <th>fr_1004</th>\n",
              "      <td>particular</td>\n",
              "      <td>J'apprécie les maires, et en particulier les c...</td>\n",
              "      <td>1.50</td>\n",
              "      <td>2.794975</td>\n",
              "    </tr>\n",
              "    <tr>\n",
              "      <th>fr_1005</th>\n",
              "      <td>particular</td>\n",
              "      <td>J'aime les arbres, et en particulier les buiss...</td>\n",
              "      <td>3.83</td>\n",
              "      <td>2.794975</td>\n",
              "    </tr>\n",
              "    <tr>\n",
              "      <th>fr_1006</th>\n",
              "      <td>unlike</td>\n",
              "      <td>Contrairement à le saumon, le poulet est souve...</td>\n",
              "      <td>4.42</td>\n",
              "      <td>2.794975</td>\n",
              "    </tr>\n",
              "    <tr>\n",
              "      <th>fr_1007</th>\n",
              "      <td>particular</td>\n",
              "      <td>J'aime les villes, et en particulier les monta...</td>\n",
              "      <td>1.50</td>\n",
              "      <td>2.794975</td>\n",
              "    </tr>\n",
              "    <tr>\n",
              "      <th>fr_1008</th>\n",
              "      <td>ingeneral</td>\n",
              "      <td>J'aime le caviar, et les produits de la mer en...</td>\n",
              "      <td>6.67</td>\n",
              "      <td>2.794975</td>\n",
              "    </tr>\n",
              "  </tbody>\n",
              "</table>\n",
              "<p>1009 rows × 4 columns</p>\n",
              "</div>\n",
              "      <button class=\"colab-df-convert\" onclick=\"convertToInteractive('df-d7648fb0-56f3-4c77-8586-aa649564ba00')\"\n",
              "              title=\"Convert this dataframe to an interactive table.\"\n",
              "              style=\"display:none;\">\n",
              "        \n",
              "  <svg xmlns=\"http://www.w3.org/2000/svg\" height=\"24px\"viewBox=\"0 0 24 24\"\n",
              "       width=\"24px\">\n",
              "    <path d=\"M0 0h24v24H0V0z\" fill=\"none\"/>\n",
              "    <path d=\"M18.56 5.44l.94 2.06.94-2.06 2.06-.94-2.06-.94-.94-2.06-.94 2.06-2.06.94zm-11 1L8.5 8.5l.94-2.06 2.06-.94-2.06-.94L8.5 2.5l-.94 2.06-2.06.94zm10 10l.94 2.06.94-2.06 2.06-.94-2.06-.94-.94-2.06-.94 2.06-2.06.94z\"/><path d=\"M17.41 7.96l-1.37-1.37c-.4-.4-.92-.59-1.43-.59-.52 0-1.04.2-1.43.59L10.3 9.45l-7.72 7.72c-.78.78-.78 2.05 0 2.83L4 21.41c.39.39.9.59 1.41.59.51 0 1.02-.2 1.41-.59l7.78-7.78 2.81-2.81c.8-.78.8-2.07 0-2.86zM5.41 20L4 18.59l7.72-7.72 1.47 1.35L5.41 20z\"/>\n",
              "  </svg>\n",
              "      </button>\n",
              "      \n",
              "  <style>\n",
              "    .colab-df-container {\n",
              "      display:flex;\n",
              "      flex-wrap:wrap;\n",
              "      gap: 12px;\n",
              "    }\n",
              "\n",
              "    .colab-df-convert {\n",
              "      background-color: #E8F0FE;\n",
              "      border: none;\n",
              "      border-radius: 50%;\n",
              "      cursor: pointer;\n",
              "      display: none;\n",
              "      fill: #1967D2;\n",
              "      height: 32px;\n",
              "      padding: 0 0 0 0;\n",
              "      width: 32px;\n",
              "    }\n",
              "\n",
              "    .colab-df-convert:hover {\n",
              "      background-color: #E2EBFA;\n",
              "      box-shadow: 0px 1px 2px rgba(60, 64, 67, 0.3), 0px 1px 3px 1px rgba(60, 64, 67, 0.15);\n",
              "      fill: #174EA6;\n",
              "    }\n",
              "\n",
              "    [theme=dark] .colab-df-convert {\n",
              "      background-color: #3B4455;\n",
              "      fill: #D2E3FC;\n",
              "    }\n",
              "\n",
              "    [theme=dark] .colab-df-convert:hover {\n",
              "      background-color: #434B5C;\n",
              "      box-shadow: 0px 1px 3px 1px rgba(0, 0, 0, 0.15);\n",
              "      filter: drop-shadow(0px 1px 2px rgba(0, 0, 0, 0.3));\n",
              "      fill: #FFFFFF;\n",
              "    }\n",
              "  </style>\n",
              "\n",
              "      <script>\n",
              "        const buttonEl =\n",
              "          document.querySelector('#df-d7648fb0-56f3-4c77-8586-aa649564ba00 button.colab-df-convert');\n",
              "        buttonEl.style.display =\n",
              "          google.colab.kernel.accessAllowed ? 'block' : 'none';\n",
              "\n",
              "        async function convertToInteractive(key) {\n",
              "          const element = document.querySelector('#df-d7648fb0-56f3-4c77-8586-aa649564ba00');\n",
              "          const dataTable =\n",
              "            await google.colab.kernel.invokeFunction('convertToInteractive',\n",
              "                                                     [key], {});\n",
              "          if (!dataTable) return;\n",
              "\n",
              "          const docLinkHtml = 'Like what you see? Visit the ' +\n",
              "            '<a target=\"_blank\" href=https://colab.research.google.com/notebooks/data_table.ipynb>data table notebook</a>'\n",
              "            + ' to learn more about interactive tables.';\n",
              "          element.innerHTML = '';\n",
              "          dataTable['output_type'] = 'display_data';\n",
              "          await google.colab.output.renderOutput(dataTable, element);\n",
              "          const docLink = document.createElement('div');\n",
              "          docLink.innerHTML = docLinkHtml;\n",
              "          element.appendChild(docLink);\n",
              "        }\n",
              "      </script>\n",
              "    </div>\n",
              "  </div>\n",
              "  "
            ],
            "text/plain": [
              "        Construction  ...     Score\n",
              "ID                    ...          \n",
              "fr_0       ingeneral  ...  2.794975\n",
              "fr_1       ingeneral  ...  2.794975\n",
              "fr_2      particular  ...  2.794975\n",
              "fr_3      particular  ...  2.794975\n",
              "fr_4       ingeneral  ...  2.794975\n",
              "...              ...  ...       ...\n",
              "fr_1004   particular  ...  2.794975\n",
              "fr_1005   particular  ...  2.794975\n",
              "fr_1006       unlike  ...  2.794975\n",
              "fr_1007   particular  ...  2.794975\n",
              "fr_1008    ingeneral  ...  2.794975\n",
              "\n",
              "[1009 rows x 4 columns]"
            ]
          },
          "metadata": {},
          "execution_count": 29
        }
      ]
    },
    {
      "cell_type": "markdown",
      "source": [
        "## Call best model and Save best output French"
      ],
      "metadata": {
        "id": "xPtU179rmxvQ"
      }
    },
    {
      "cell_type": "code",
      "source": [
        "classifiers=['svm','knr','dt','lr']\n",
        "max_rho=(float('-inf'),\"\")"
      ],
      "metadata": {
        "id": "II53f5yyv-9W"
      },
      "execution_count": 30,
      "outputs": []
    },
    {
      "cell_type": "code",
      "source": [
        "for classifier in classifiers:\n",
        "  results,scores=use(df_fr_train,df_fr_test,classifier)\n",
        "  print('French results on model--USE--->',classifier)\n",
        "  print(results)"
      ],
      "metadata": {
        "id": "wJ6mhjBIwB-0",
        "colab": {
          "base_uri": "https://localhost:8080/"
        },
        "outputId": "2f6719ba-13e7-4d57-dc0d-256edfedb508"
      },
      "execution_count": 31,
      "outputs": [
        {
          "output_type": "stream",
          "name": "stdout",
          "text": [
            "French results on model--USE---> svm\n",
            "[{'mse': 3.3313415574707665, 'rmse': 1.8251963065573977, 'rho': 0.029937021610930405, 'p-value': 0.34212419795352644, 'eval_pred': array([5.36274701, 4.28460411, 3.53859666, ..., 3.86386237, 3.96695503,\n",
            "       4.16541119]), 'eval_labels': array([3.25, 4.08, 1.67, ..., 4.42, 1.5 , 6.67])}]\n",
            "French results on model--USE---> knr\n",
            "[{'mse': 4.354059738354808, 'rmse': 2.0866383822681898, 'rho': 0.10291304029711668, 'p-value': 0.001061674702351423, 'eval_pred': array([5.8  , 4.214, 3.486, ..., 5.2  , 5.15 , 3.658]), 'eval_labels': array([3.25, 4.08, 1.67, ..., 4.42, 1.5 , 6.67])}]\n",
            "French results on model--USE---> dt\n",
            "[{'mse': 6.570036372646184, 'rmse': 2.5632082187458325, 'rho': -0.0592669274494624, 'p-value': 0.05984679914293181, 'eval_pred': array([6.33, 2.83, 6.  , ..., 6.  , 5.58, 4.33]), 'eval_labels': array([3.25, 4.08, 1.67, ..., 4.42, 1.5 , 6.67])}]\n",
            "French results on model--USE---> lr\n",
            "[{'mse': 4569.830213673282, 'rmse': 67.60051932990812, 'rho': 0.20663598472035943, 'p-value': 3.4198090990707516e-11, 'eval_pred': array([ 13.536015,  10.099334,  77.669815, ...,  56.61437 , 121.50537 ,\n",
            "        10.61754 ], dtype=float32), 'eval_labels': array([3.25, 4.08, 1.67, ..., 4.42, 1.5 , 6.67])}]\n"
          ]
        }
      ]
    },
    {
      "cell_type": "code",
      "source": [
        "for ngram in range(2,5):  \n",
        "  for classifier in classifiers:\n",
        "    results,scores=tfidf(df_fr_train,df_fr_test,classifier,ngram)\n",
        "    print('French results on model--TF-IDF--->',classifier,' --> n grams:  ',ngram)\n",
        "    print(results)"
      ],
      "metadata": {
        "id": "pJakoXp5wI8I",
        "colab": {
          "base_uri": "https://localhost:8080/"
        },
        "outputId": "6045c8f0-5bb8-482a-df92-cca4742cf712"
      },
      "execution_count": 32,
      "outputs": [
        {
          "output_type": "stream",
          "name": "stdout",
          "text": [
            "French results on model--TF-IDF---> svm  --> n grams:   2\n",
            "[{'mse': 4.506542709855408, 'rmse': 2.1228619149288557, 'rho': 0.2296193115707354, 'p-value': 1.540246820821582e-13, 'eval_pred': array([5.76164499, 4.29811907, 5.14561943, ..., 5.62058249, 5.25739224,\n",
            "       4.52374039]), 'eval_labels': array([3.25, 4.08, 1.67, ..., 4.42, 1.5 , 6.67])}]\n",
            "French results on model--TF-IDF---> knr  --> n grams:   2\n",
            "[{'mse': 4.999355996035679, 'rmse': 2.2359239691983444, 'rho': 0.03809706147462164, 'p-value': 0.2266309908066629, 'eval_pred': array([5.998, 5.282, 3.734, ..., 6.216, 3.752, 4.214]), 'eval_labels': array([3.25, 4.08, 1.67, ..., 4.42, 1.5 , 6.67])}]\n",
            "French results on model--TF-IDF---> dt  --> n grams:   2\n",
            "[{'mse': 4.0927082011892955, 'rmse': 2.0230442904665473, 'rho': 0.3119315513776263, 'p-value': 3.2973333041176752e-24, 'eval_pred': array([3.92, 4.58, 5.5 , ..., 6.58, 3.92, 2.83]), 'eval_labels': array([3.25, 4.08, 1.67, ..., 4.42, 1.5 , 6.67])}]\n",
            "French results on model--TF-IDF---> lr  --> n grams:   2\n",
            "[{'mse': 8.336324923799738, 'rmse': 2.8872694581212435, 'rho': 0.08993826390770362, 'p-value': 0.004248152225272377, 'eval_pred': array([6.2934955 , 3.43737586, 4.79537716, ..., 6.38038588, 4.77963771,\n",
            "       3.53753293]), 'eval_labels': array([3.25, 4.08, 1.67, ..., 4.42, 1.5 , 6.67])}]\n",
            "French results on model--TF-IDF---> svm  --> n grams:   3\n",
            "[{'mse': 4.88686437026939, 'rmse': 2.2106253346665032, 'rho': 0.3173616318099395, 'p-value': 4.802736661577321e-25, 'eval_pred': array([5.90394943, 4.38285586, 5.50380841, ..., 5.69339999, 5.53774922,\n",
            "       4.58778641]), 'eval_labels': array([3.25, 4.08, 1.67, ..., 4.42, 1.5 , 6.67])}]\n",
            "French results on model--TF-IDF---> knr  --> n grams:   3\n",
            "[{'mse': 4.326428757185331, 'rmse': 2.0800069127734484, 'rho': 0.12020841565394119, 'p-value': 0.0001294275435885776, 'eval_pred': array([6.014, 4.2  , 4.818, ..., 6.216, 3.536, 4.214]), 'eval_labels': array([3.25, 4.08, 1.67, ..., 4.42, 1.5 , 6.67])}]\n",
            "French results on model--TF-IDF---> dt  --> n grams:   3\n",
            "[{'mse': 7.694020787908821, 'rmse': 2.773809796635094, 'rho': -0.025696653051830734, 'p-value': 0.41486004873726834, 'eval_pred': array([6.5 , 3.17, 6.5 , ..., 6.58, 6.5 , 4.58]), 'eval_labels': array([3.25, 4.08, 1.67, ..., 4.42, 1.5 , 6.67])}]\n",
            "French results on model--TF-IDF---> lr  --> n grams:   3\n",
            "[{'mse': 10.799789646226293, 'rmse': 3.28630334056768, 'rho': 0.12491304397778277, 'p-value': 6.934951808318821e-05, 'eval_pred': array([7.00724574, 3.6724459 , 5.73572971, ..., 6.85188387, 5.1131828 ,\n",
            "       3.37431856]), 'eval_labels': array([3.25, 4.08, 1.67, ..., 4.42, 1.5 , 6.67])}]\n",
            "French results on model--TF-IDF---> svm  --> n grams:   4\n",
            "[{'mse': 5.452979138100427, 'rmse': 2.3351614800909224, 'rho': 0.3537288975011234, 'p-value': 4.15641366855722e-31, 'eval_pred': array([6.01594407, 4.49798862, 5.82470348, ..., 5.91768723, 5.83979546,\n",
            "       4.71728968]), 'eval_labels': array([3.25, 4.08, 1.67, ..., 4.42, 1.5 , 6.67])}]\n",
            "French results on model--TF-IDF---> knr  --> n grams:   4\n",
            "[{'mse': 4.213165054509417, 'rmse': 2.0525995845535525, 'rho': 0.23852419156078816, 'p-value': 1.611334512665128e-14, 'eval_pred': array([6.014, 4.132, 5.052, ..., 6.216, 5.052, 4.214]), 'eval_labels': array([3.25, 4.08, 1.67, ..., 4.42, 1.5 , 6.67])}]\n",
            "French results on model--TF-IDF---> dt  --> n grams:   4\n",
            "[{'mse': 5.505905748265609, 'rmse': 2.346466651854573, 'rho': 0.0781193939159086, 'p-value': 0.013058791072604048, 'eval_pred': array([6.  , 3.17, 6.  , ..., 6.33, 6.  , 3.17]), 'eval_labels': array([3.25, 4.08, 1.67, ..., 4.42, 1.5 , 6.67])}]\n",
            "French results on model--TF-IDF---> lr  --> n grams:   4\n",
            "[{'mse': 16.113584447847135, 'rmse': 4.014172946927815, 'rho': 0.18334152760609093, 'p-value': 4.454248344680304e-09, 'eval_pred': array([7.07852082, 3.45713547, 7.34850341, ..., 7.32198985, 5.1992602 ,\n",
            "       3.37146684]), 'eval_labels': array([3.25, 4.08, 1.67, ..., 4.42, 1.5 , 6.67])}]\n"
          ]
        }
      ]
    },
    {
      "cell_type": "code",
      "source": [
        "fr_results,fr_scores=use(df_fr_train,df_fr_test,'svm')\n",
        "fr_results"
      ],
      "metadata": {
        "id": "zVaYM2jWmxvY",
        "colab": {
          "base_uri": "https://localhost:8080/"
        },
        "outputId": "e042faca-4e99-400a-a531-dd162138cb97"
      },
      "execution_count": 33,
      "outputs": [
        {
          "output_type": "execute_result",
          "data": {
            "text/plain": [
              "[{'eval_labels': array([3.25, 4.08, 1.67, ..., 4.42, 1.5 , 6.67]),\n",
              "  'eval_pred': array([5.36274701, 4.28460411, 3.53859666, ..., 3.86386237, 3.96695503,\n",
              "         4.16541119]),\n",
              "  'mse': 3.3313415574707665,\n",
              "  'p-value': 0.34212419795352644,\n",
              "  'rho': 0.029937021610930405,\n",
              "  'rmse': 1.8251963065573977}]"
            ]
          },
          "metadata": {},
          "execution_count": 33
        }
      ]
    },
    {
      "cell_type": "code",
      "source": [
        "df_fr_test['Score']=fr_scores\n",
        "del df_fr_test['Sentence_emb']\n",
        "df_fr_test"
      ],
      "metadata": {
        "id": "xB_NFQJgmxvZ",
        "colab": {
          "base_uri": "https://localhost:8080/",
          "height": 454
        },
        "outputId": "f66aa8d8-f06e-4d73-9bad-ce6a51d072b1"
      },
      "execution_count": 34,
      "outputs": [
        {
          "output_type": "execute_result",
          "data": {
            "text/html": [
              "\n",
              "  <div id=\"df-7006ae51-36d9-482f-928a-44296cb2ef86\">\n",
              "    <div class=\"colab-df-container\">\n",
              "      <div>\n",
              "<style scoped>\n",
              "    .dataframe tbody tr th:only-of-type {\n",
              "        vertical-align: middle;\n",
              "    }\n",
              "\n",
              "    .dataframe tbody tr th {\n",
              "        vertical-align: top;\n",
              "    }\n",
              "\n",
              "    .dataframe thead th {\n",
              "        text-align: right;\n",
              "    }\n",
              "</style>\n",
              "<table border=\"1\" class=\"dataframe\">\n",
              "  <thead>\n",
              "    <tr style=\"text-align: right;\">\n",
              "      <th></th>\n",
              "      <th>Construction</th>\n",
              "      <th>Sentence</th>\n",
              "      <th>Scores</th>\n",
              "      <th>Score</th>\n",
              "    </tr>\n",
              "    <tr>\n",
              "      <th>ID</th>\n",
              "      <th></th>\n",
              "      <th></th>\n",
              "      <th></th>\n",
              "      <th></th>\n",
              "    </tr>\n",
              "  </thead>\n",
              "  <tbody>\n",
              "    <tr>\n",
              "      <th>fr_0</th>\n",
              "      <td>ingeneral</td>\n",
              "      <td>J'aime les buissons, et les sapins en général.</td>\n",
              "      <td>3.25</td>\n",
              "      <td>5.362747</td>\n",
              "    </tr>\n",
              "    <tr>\n",
              "      <th>fr_1</th>\n",
              "      <td>ingeneral</td>\n",
              "      <td>J'aime les produits de la mer, et le caviar en...</td>\n",
              "      <td>4.08</td>\n",
              "      <td>4.284604</td>\n",
              "    </tr>\n",
              "    <tr>\n",
              "      <th>fr_2</th>\n",
              "      <td>particular</td>\n",
              "      <td>J'apprécie les conducteurs, et en particulier ...</td>\n",
              "      <td>1.67</td>\n",
              "      <td>3.538597</td>\n",
              "    </tr>\n",
              "    <tr>\n",
              "      <th>fr_3</th>\n",
              "      <td>particular</td>\n",
              "      <td>J'apprécie les politiciens, et en particulier ...</td>\n",
              "      <td>2.42</td>\n",
              "      <td>3.515586</td>\n",
              "    </tr>\n",
              "    <tr>\n",
              "      <th>fr_4</th>\n",
              "      <td>ingeneral</td>\n",
              "      <td>J'aime les huîtres, et le veau en général.</td>\n",
              "      <td>3.25</td>\n",
              "      <td>5.091562</td>\n",
              "    </tr>\n",
              "    <tr>\n",
              "      <th>...</th>\n",
              "      <td>...</td>\n",
              "      <td>...</td>\n",
              "      <td>...</td>\n",
              "      <td>...</td>\n",
              "    </tr>\n",
              "    <tr>\n",
              "      <th>fr_1004</th>\n",
              "      <td>particular</td>\n",
              "      <td>J'apprécie les maires, et en particulier les c...</td>\n",
              "      <td>1.50</td>\n",
              "      <td>3.681623</td>\n",
              "    </tr>\n",
              "    <tr>\n",
              "      <th>fr_1005</th>\n",
              "      <td>particular</td>\n",
              "      <td>J'aime les arbres, et en particulier les buiss...</td>\n",
              "      <td>3.83</td>\n",
              "      <td>4.806598</td>\n",
              "    </tr>\n",
              "    <tr>\n",
              "      <th>fr_1006</th>\n",
              "      <td>unlike</td>\n",
              "      <td>Contrairement à le saumon, le poulet est souve...</td>\n",
              "      <td>4.42</td>\n",
              "      <td>3.863862</td>\n",
              "    </tr>\n",
              "    <tr>\n",
              "      <th>fr_1007</th>\n",
              "      <td>particular</td>\n",
              "      <td>J'aime les villes, et en particulier les monta...</td>\n",
              "      <td>1.50</td>\n",
              "      <td>3.966955</td>\n",
              "    </tr>\n",
              "    <tr>\n",
              "      <th>fr_1008</th>\n",
              "      <td>ingeneral</td>\n",
              "      <td>J'aime le caviar, et les produits de la mer en...</td>\n",
              "      <td>6.67</td>\n",
              "      <td>4.165411</td>\n",
              "    </tr>\n",
              "  </tbody>\n",
              "</table>\n",
              "<p>1009 rows × 4 columns</p>\n",
              "</div>\n",
              "      <button class=\"colab-df-convert\" onclick=\"convertToInteractive('df-7006ae51-36d9-482f-928a-44296cb2ef86')\"\n",
              "              title=\"Convert this dataframe to an interactive table.\"\n",
              "              style=\"display:none;\">\n",
              "        \n",
              "  <svg xmlns=\"http://www.w3.org/2000/svg\" height=\"24px\"viewBox=\"0 0 24 24\"\n",
              "       width=\"24px\">\n",
              "    <path d=\"M0 0h24v24H0V0z\" fill=\"none\"/>\n",
              "    <path d=\"M18.56 5.44l.94 2.06.94-2.06 2.06-.94-2.06-.94-.94-2.06-.94 2.06-2.06.94zm-11 1L8.5 8.5l.94-2.06 2.06-.94-2.06-.94L8.5 2.5l-.94 2.06-2.06.94zm10 10l.94 2.06.94-2.06 2.06-.94-2.06-.94-.94-2.06-.94 2.06-2.06.94z\"/><path d=\"M17.41 7.96l-1.37-1.37c-.4-.4-.92-.59-1.43-.59-.52 0-1.04.2-1.43.59L10.3 9.45l-7.72 7.72c-.78.78-.78 2.05 0 2.83L4 21.41c.39.39.9.59 1.41.59.51 0 1.02-.2 1.41-.59l7.78-7.78 2.81-2.81c.8-.78.8-2.07 0-2.86zM5.41 20L4 18.59l7.72-7.72 1.47 1.35L5.41 20z\"/>\n",
              "  </svg>\n",
              "      </button>\n",
              "      \n",
              "  <style>\n",
              "    .colab-df-container {\n",
              "      display:flex;\n",
              "      flex-wrap:wrap;\n",
              "      gap: 12px;\n",
              "    }\n",
              "\n",
              "    .colab-df-convert {\n",
              "      background-color: #E8F0FE;\n",
              "      border: none;\n",
              "      border-radius: 50%;\n",
              "      cursor: pointer;\n",
              "      display: none;\n",
              "      fill: #1967D2;\n",
              "      height: 32px;\n",
              "      padding: 0 0 0 0;\n",
              "      width: 32px;\n",
              "    }\n",
              "\n",
              "    .colab-df-convert:hover {\n",
              "      background-color: #E2EBFA;\n",
              "      box-shadow: 0px 1px 2px rgba(60, 64, 67, 0.3), 0px 1px 3px 1px rgba(60, 64, 67, 0.15);\n",
              "      fill: #174EA6;\n",
              "    }\n",
              "\n",
              "    [theme=dark] .colab-df-convert {\n",
              "      background-color: #3B4455;\n",
              "      fill: #D2E3FC;\n",
              "    }\n",
              "\n",
              "    [theme=dark] .colab-df-convert:hover {\n",
              "      background-color: #434B5C;\n",
              "      box-shadow: 0px 1px 3px 1px rgba(0, 0, 0, 0.15);\n",
              "      filter: drop-shadow(0px 1px 2px rgba(0, 0, 0, 0.3));\n",
              "      fill: #FFFFFF;\n",
              "    }\n",
              "  </style>\n",
              "\n",
              "      <script>\n",
              "        const buttonEl =\n",
              "          document.querySelector('#df-7006ae51-36d9-482f-928a-44296cb2ef86 button.colab-df-convert');\n",
              "        buttonEl.style.display =\n",
              "          google.colab.kernel.accessAllowed ? 'block' : 'none';\n",
              "\n",
              "        async function convertToInteractive(key) {\n",
              "          const element = document.querySelector('#df-7006ae51-36d9-482f-928a-44296cb2ef86');\n",
              "          const dataTable =\n",
              "            await google.colab.kernel.invokeFunction('convertToInteractive',\n",
              "                                                     [key], {});\n",
              "          if (!dataTable) return;\n",
              "\n",
              "          const docLinkHtml = 'Like what you see? Visit the ' +\n",
              "            '<a target=\"_blank\" href=https://colab.research.google.com/notebooks/data_table.ipynb>data table notebook</a>'\n",
              "            + ' to learn more about interactive tables.';\n",
              "          element.innerHTML = '';\n",
              "          dataTable['output_type'] = 'display_data';\n",
              "          await google.colab.output.renderOutput(dataTable, element);\n",
              "          const docLink = document.createElement('div');\n",
              "          docLink.innerHTML = docLinkHtml;\n",
              "          element.appendChild(docLink);\n",
              "        }\n",
              "      </script>\n",
              "    </div>\n",
              "  </div>\n",
              "  "
            ],
            "text/plain": [
              "        Construction  ...     Score\n",
              "ID                    ...          \n",
              "fr_0       ingeneral  ...  5.362747\n",
              "fr_1       ingeneral  ...  4.284604\n",
              "fr_2      particular  ...  3.538597\n",
              "fr_3      particular  ...  3.515586\n",
              "fr_4       ingeneral  ...  5.091562\n",
              "...              ...  ...       ...\n",
              "fr_1004   particular  ...  3.681623\n",
              "fr_1005   particular  ...  4.806598\n",
              "fr_1006       unlike  ...  3.863862\n",
              "fr_1007   particular  ...  3.966955\n",
              "fr_1008    ingeneral  ...  4.165411\n",
              "\n",
              "[1009 rows x 4 columns]"
            ]
          },
          "metadata": {},
          "execution_count": 34
        }
      ]
    },
    {
      "cell_type": "code",
      "source": [
        "df_fr_test.to_csv('answer_fr_with_sent.csv') \n",
        "files.download('answer_fr_with_sent.csv')"
      ],
      "metadata": {
        "id": "0XbOWoxZmxvZ",
        "colab": {
          "base_uri": "https://localhost:8080/",
          "height": 34
        },
        "outputId": "919e57da-8fc4-4775-ded6-f263a37927de"
      },
      "execution_count": 35,
      "outputs": [
        {
          "output_type": "display_data",
          "data": {
            "application/javascript": [
              "\n",
              "    async function download(id, filename, size) {\n",
              "      if (!google.colab.kernel.accessAllowed) {\n",
              "        return;\n",
              "      }\n",
              "      const div = document.createElement('div');\n",
              "      const label = document.createElement('label');\n",
              "      label.textContent = `Downloading \"${filename}\": `;\n",
              "      div.appendChild(label);\n",
              "      const progress = document.createElement('progress');\n",
              "      progress.max = size;\n",
              "      div.appendChild(progress);\n",
              "      document.body.appendChild(div);\n",
              "\n",
              "      const buffers = [];\n",
              "      let downloaded = 0;\n",
              "\n",
              "      const channel = await google.colab.kernel.comms.open(id);\n",
              "      // Send a message to notify the kernel that we're ready.\n",
              "      channel.send({})\n",
              "\n",
              "      for await (const message of channel.messages) {\n",
              "        // Send a message to notify the kernel that we're ready.\n",
              "        channel.send({})\n",
              "        if (message.buffers) {\n",
              "          for (const buffer of message.buffers) {\n",
              "            buffers.push(buffer);\n",
              "            downloaded += buffer.byteLength;\n",
              "            progress.value = downloaded;\n",
              "          }\n",
              "        }\n",
              "      }\n",
              "      const blob = new Blob(buffers, {type: 'application/binary'});\n",
              "      const a = document.createElement('a');\n",
              "      a.href = window.URL.createObjectURL(blob);\n",
              "      a.download = filename;\n",
              "      div.appendChild(a);\n",
              "      a.click();\n",
              "      div.remove();\n",
              "    }\n",
              "  "
            ],
            "text/plain": [
              "<IPython.core.display.Javascript object>"
            ]
          },
          "metadata": {}
        },
        {
          "output_type": "display_data",
          "data": {
            "application/javascript": [
              "download(\"download_b4840047-7372-4ddc-9bf7-a738fb27860b\", \"answer_fr_with_sent.csv\", 99023)"
            ],
            "text/plain": [
              "<IPython.core.display.Javascript object>"
            ]
          },
          "metadata": {}
        }
      ]
    },
    {
      "cell_type": "markdown",
      "source": [
        "# Italian"
      ],
      "metadata": {
        "id": "lS1JTBa9iwkO"
      }
    },
    {
      "cell_type": "markdown",
      "source": [
        "## Train"
      ],
      "metadata": {
        "id": "fQaKOvEViyYK"
      }
    },
    {
      "cell_type": "code",
      "source": [
        "data_url = 'https://raw.githubusercontent.com/shammur/SemEval2022Task3/main/data/train/train_subtask-2/it/'\n",
        "folds = [pd.read_csv(os.path.join(data_url, 'It-Subtask2-fold_{}.tsv'.format(i)), sep='\\t') \\\n",
        "         for i in range(2)] #reading all folds from GitHub\n",
        "\n",
        "df_it_train = pd.concat(folds[0:2]) \n",
        "df_it_train"
      ],
      "metadata": {
        "id": "FUx0aN9UiyYL",
        "colab": {
          "base_uri": "https://localhost:8080/",
          "height": 424
        },
        "outputId": "ea7bc8ce-276a-4cb4-a966-03f867f3193e"
      },
      "execution_count": 36,
      "outputs": [
        {
          "output_type": "execute_result",
          "data": {
            "text/html": [
              "\n",
              "  <div id=\"df-e5756183-e66c-4063-b1d5-5efb42c15749\">\n",
              "    <div class=\"colab-df-container\">\n",
              "      <div>\n",
              "<style scoped>\n",
              "    .dataframe tbody tr th:only-of-type {\n",
              "        vertical-align: middle;\n",
              "    }\n",
              "\n",
              "    .dataframe tbody tr th {\n",
              "        vertical-align: top;\n",
              "    }\n",
              "\n",
              "    .dataframe thead th {\n",
              "        text-align: right;\n",
              "    }\n",
              "</style>\n",
              "<table border=\"1\" class=\"dataframe\">\n",
              "  <thead>\n",
              "    <tr style=\"text-align: right;\">\n",
              "      <th></th>\n",
              "      <th>ID</th>\n",
              "      <th>Sentence</th>\n",
              "      <th>Score</th>\n",
              "    </tr>\n",
              "  </thead>\n",
              "  <tbody>\n",
              "    <tr>\n",
              "      <th>0</th>\n",
              "      <td>73</td>\n",
              "      <td>Adoro gli abeti, ma non i cespugli.</td>\n",
              "      <td>4.33</td>\n",
              "    </tr>\n",
              "    <tr>\n",
              "      <th>1</th>\n",
              "      <td>106</td>\n",
              "      <td>Adoro il vitello, ma non i granchi.</td>\n",
              "      <td>3.33</td>\n",
              "    </tr>\n",
              "    <tr>\n",
              "      <th>2</th>\n",
              "      <td>203</td>\n",
              "      <td>Adoro gli animali, un tipo interessante di abete.</td>\n",
              "      <td>1.25</td>\n",
              "    </tr>\n",
              "    <tr>\n",
              "      <th>3</th>\n",
              "      <td>466</td>\n",
              "      <td>Amo gli abeti più dei cespugli.</td>\n",
              "      <td>5.18</td>\n",
              "    </tr>\n",
              "    <tr>\n",
              "      <th>4</th>\n",
              "      <td>137</td>\n",
              "      <td>Amo i criceti, un tipo interessante di pappaga...</td>\n",
              "      <td>1.36</td>\n",
              "    </tr>\n",
              "    <tr>\n",
              "      <th>...</th>\n",
              "      <td>...</td>\n",
              "      <td>...</td>\n",
              "      <td>...</td>\n",
              "    </tr>\n",
              "    <tr>\n",
              "      <th>257</th>\n",
              "      <td>370</td>\n",
              "      <td>Amo il tacchino, ed anche i granchi.</td>\n",
              "      <td>6.00</td>\n",
              "    </tr>\n",
              "    <tr>\n",
              "      <th>258</th>\n",
              "      <td>453</td>\n",
              "      <td>Amo gli alberi più delle betulle.</td>\n",
              "      <td>2.22</td>\n",
              "    </tr>\n",
              "    <tr>\n",
              "      <th>259</th>\n",
              "      <td>288</td>\n",
              "      <td>Amo gli uccelli, ed anche i merli.</td>\n",
              "      <td>3.55</td>\n",
              "    </tr>\n",
              "    <tr>\n",
              "      <th>260</th>\n",
              "      <td>386</td>\n",
              "      <td>Amo i prodotti del mare, ed anche il caviale.</td>\n",
              "      <td>5.08</td>\n",
              "    </tr>\n",
              "    <tr>\n",
              "      <th>261</th>\n",
              "      <td>379</td>\n",
              "      <td>Amo le ostriche, ed anche il tacchino.</td>\n",
              "      <td>5.64</td>\n",
              "    </tr>\n",
              "  </tbody>\n",
              "</table>\n",
              "<p>524 rows × 3 columns</p>\n",
              "</div>\n",
              "      <button class=\"colab-df-convert\" onclick=\"convertToInteractive('df-e5756183-e66c-4063-b1d5-5efb42c15749')\"\n",
              "              title=\"Convert this dataframe to an interactive table.\"\n",
              "              style=\"display:none;\">\n",
              "        \n",
              "  <svg xmlns=\"http://www.w3.org/2000/svg\" height=\"24px\"viewBox=\"0 0 24 24\"\n",
              "       width=\"24px\">\n",
              "    <path d=\"M0 0h24v24H0V0z\" fill=\"none\"/>\n",
              "    <path d=\"M18.56 5.44l.94 2.06.94-2.06 2.06-.94-2.06-.94-.94-2.06-.94 2.06-2.06.94zm-11 1L8.5 8.5l.94-2.06 2.06-.94-2.06-.94L8.5 2.5l-.94 2.06-2.06.94zm10 10l.94 2.06.94-2.06 2.06-.94-2.06-.94-.94-2.06-.94 2.06-2.06.94z\"/><path d=\"M17.41 7.96l-1.37-1.37c-.4-.4-.92-.59-1.43-.59-.52 0-1.04.2-1.43.59L10.3 9.45l-7.72 7.72c-.78.78-.78 2.05 0 2.83L4 21.41c.39.39.9.59 1.41.59.51 0 1.02-.2 1.41-.59l7.78-7.78 2.81-2.81c.8-.78.8-2.07 0-2.86zM5.41 20L4 18.59l7.72-7.72 1.47 1.35L5.41 20z\"/>\n",
              "  </svg>\n",
              "      </button>\n",
              "      \n",
              "  <style>\n",
              "    .colab-df-container {\n",
              "      display:flex;\n",
              "      flex-wrap:wrap;\n",
              "      gap: 12px;\n",
              "    }\n",
              "\n",
              "    .colab-df-convert {\n",
              "      background-color: #E8F0FE;\n",
              "      border: none;\n",
              "      border-radius: 50%;\n",
              "      cursor: pointer;\n",
              "      display: none;\n",
              "      fill: #1967D2;\n",
              "      height: 32px;\n",
              "      padding: 0 0 0 0;\n",
              "      width: 32px;\n",
              "    }\n",
              "\n",
              "    .colab-df-convert:hover {\n",
              "      background-color: #E2EBFA;\n",
              "      box-shadow: 0px 1px 2px rgba(60, 64, 67, 0.3), 0px 1px 3px 1px rgba(60, 64, 67, 0.15);\n",
              "      fill: #174EA6;\n",
              "    }\n",
              "\n",
              "    [theme=dark] .colab-df-convert {\n",
              "      background-color: #3B4455;\n",
              "      fill: #D2E3FC;\n",
              "    }\n",
              "\n",
              "    [theme=dark] .colab-df-convert:hover {\n",
              "      background-color: #434B5C;\n",
              "      box-shadow: 0px 1px 3px 1px rgba(0, 0, 0, 0.15);\n",
              "      filter: drop-shadow(0px 1px 2px rgba(0, 0, 0, 0.3));\n",
              "      fill: #FFFFFF;\n",
              "    }\n",
              "  </style>\n",
              "\n",
              "      <script>\n",
              "        const buttonEl =\n",
              "          document.querySelector('#df-e5756183-e66c-4063-b1d5-5efb42c15749 button.colab-df-convert');\n",
              "        buttonEl.style.display =\n",
              "          google.colab.kernel.accessAllowed ? 'block' : 'none';\n",
              "\n",
              "        async function convertToInteractive(key) {\n",
              "          const element = document.querySelector('#df-e5756183-e66c-4063-b1d5-5efb42c15749');\n",
              "          const dataTable =\n",
              "            await google.colab.kernel.invokeFunction('convertToInteractive',\n",
              "                                                     [key], {});\n",
              "          if (!dataTable) return;\n",
              "\n",
              "          const docLinkHtml = 'Like what you see? Visit the ' +\n",
              "            '<a target=\"_blank\" href=https://colab.research.google.com/notebooks/data_table.ipynb>data table notebook</a>'\n",
              "            + ' to learn more about interactive tables.';\n",
              "          element.innerHTML = '';\n",
              "          dataTable['output_type'] = 'display_data';\n",
              "          await google.colab.output.renderOutput(dataTable, element);\n",
              "          const docLink = document.createElement('div');\n",
              "          docLink.innerHTML = docLinkHtml;\n",
              "          element.appendChild(docLink);\n",
              "        }\n",
              "      </script>\n",
              "    </div>\n",
              "  </div>\n",
              "  "
            ],
            "text/plain": [
              "      ID                                           Sentence  Score\n",
              "0     73                Adoro gli abeti, ma non i cespugli.   4.33\n",
              "1    106                Adoro il vitello, ma non i granchi.   3.33\n",
              "2    203  Adoro gli animali, un tipo interessante di abete.   1.25\n",
              "3    466                    Amo gli abeti più dei cespugli.   5.18\n",
              "4    137  Amo i criceti, un tipo interessante di pappaga...   1.36\n",
              "..   ...                                                ...    ...\n",
              "257  370               Amo il tacchino, ed anche i granchi.   6.00\n",
              "258  453                  Amo gli alberi più delle betulle.   2.22\n",
              "259  288                 Amo gli uccelli, ed anche i merli.   3.55\n",
              "260  386      Amo i prodotti del mare, ed anche il caviale.   5.08\n",
              "261  379             Amo le ostriche, ed anche il tacchino.   5.64\n",
              "\n",
              "[524 rows x 3 columns]"
            ]
          },
          "metadata": {},
          "execution_count": 36
        }
      ]
    },
    {
      "cell_type": "code",
      "source": [
        "\n",
        "import base64\n",
        "import requests\n",
        "import pandas as pd\n",
        "df_it_test = pd.read_csv('https://raw.githubusercontent.com/shammur/SemEval2022Task3/main/data/test/official_test_set_with_labels/subtask-2/It-Subtask2-scores.tsv', sep='\\t')\n",
        "df_it_test=df_it_test.set_index('ID')\n",
        "scores=[random.uniform(1.0,7.0)]*1009 \n",
        "\n",
        "df_it_test['Score']=scores\n",
        "df_it_test "
      ],
      "metadata": {
        "id": "P7wLuWqDiyYN",
        "colab": {
          "base_uri": "https://localhost:8080/",
          "height": 454
        },
        "outputId": "77ab563a-d8d5-4c48-cc99-389fd554245f"
      },
      "execution_count": 37,
      "outputs": [
        {
          "output_type": "execute_result",
          "data": {
            "text/html": [
              "\n",
              "  <div id=\"df-db40d9dd-faee-4b9e-83a3-41c10292d3f8\">\n",
              "    <div class=\"colab-df-container\">\n",
              "      <div>\n",
              "<style scoped>\n",
              "    .dataframe tbody tr th:only-of-type {\n",
              "        vertical-align: middle;\n",
              "    }\n",
              "\n",
              "    .dataframe tbody tr th {\n",
              "        vertical-align: top;\n",
              "    }\n",
              "\n",
              "    .dataframe thead th {\n",
              "        text-align: right;\n",
              "    }\n",
              "</style>\n",
              "<table border=\"1\" class=\"dataframe\">\n",
              "  <thead>\n",
              "    <tr style=\"text-align: right;\">\n",
              "      <th></th>\n",
              "      <th>Construction</th>\n",
              "      <th>Sentence</th>\n",
              "      <th>Scores</th>\n",
              "      <th>Score</th>\n",
              "    </tr>\n",
              "    <tr>\n",
              "      <th>ID</th>\n",
              "      <th></th>\n",
              "      <th></th>\n",
              "      <th></th>\n",
              "      <th></th>\n",
              "    </tr>\n",
              "  </thead>\n",
              "  <tbody>\n",
              "    <tr>\n",
              "      <th>it_0</th>\n",
              "      <td>ingeneral</td>\n",
              "      <td>Amo gli arbusti, e le querce in generale.</td>\n",
              "      <td>2.91</td>\n",
              "      <td>5.385794</td>\n",
              "    </tr>\n",
              "    <tr>\n",
              "      <th>it_1</th>\n",
              "      <td>particular</td>\n",
              "      <td>Amo le montagne, e in particolare i centri com...</td>\n",
              "      <td>1.30</td>\n",
              "      <td>5.385794</td>\n",
              "    </tr>\n",
              "    <tr>\n",
              "      <th>it_2</th>\n",
              "      <td>comparatives</td>\n",
              "      <td>Amo le foreste più delle case.</td>\n",
              "      <td>5.92</td>\n",
              "      <td>5.385794</td>\n",
              "    </tr>\n",
              "    <tr>\n",
              "      <th>it_3</th>\n",
              "      <td>andtoo</td>\n",
              "      <td>Amo le foreste, ed anche i centri commerciali.</td>\n",
              "      <td>5.60</td>\n",
              "      <td>5.385794</td>\n",
              "    </tr>\n",
              "    <tr>\n",
              "      <th>it_4</th>\n",
              "      <td>ingeneral</td>\n",
              "      <td>Amo i merli, e i gatti in generale.</td>\n",
              "      <td>3.22</td>\n",
              "      <td>5.385794</td>\n",
              "    </tr>\n",
              "    <tr>\n",
              "      <th>...</th>\n",
              "      <td>...</td>\n",
              "      <td>...</td>\n",
              "      <td>...</td>\n",
              "      <td>...</td>\n",
              "    </tr>\n",
              "    <tr>\n",
              "      <th>it_1004</th>\n",
              "      <td>comparatives</td>\n",
              "      <td>Apprezzo i senatori più degli agricoltori.</td>\n",
              "      <td>5.92</td>\n",
              "      <td>5.385794</td>\n",
              "    </tr>\n",
              "    <tr>\n",
              "      <th>it_1005</th>\n",
              "      <td>unlike</td>\n",
              "      <td>A differenza dei prodotti del mare, il vitello...</td>\n",
              "      <td>4.73</td>\n",
              "      <td>5.385794</td>\n",
              "    </tr>\n",
              "    <tr>\n",
              "      <th>it_1006</th>\n",
              "      <td>comparatives</td>\n",
              "      <td>Apprezzo i politici più degli agricoltori.</td>\n",
              "      <td>5.70</td>\n",
              "      <td>5.385794</td>\n",
              "    </tr>\n",
              "    <tr>\n",
              "      <th>it_1007</th>\n",
              "      <td>andtoo</td>\n",
              "      <td>Apprezzo i camerieri, ed anche i sindaci.</td>\n",
              "      <td>3.25</td>\n",
              "      <td>5.385794</td>\n",
              "    </tr>\n",
              "    <tr>\n",
              "      <th>it_1008</th>\n",
              "      <td>particular</td>\n",
              "      <td>Amo i laghi, e in particolare le case.</td>\n",
              "      <td>1.67</td>\n",
              "      <td>5.385794</td>\n",
              "    </tr>\n",
              "  </tbody>\n",
              "</table>\n",
              "<p>1009 rows × 4 columns</p>\n",
              "</div>\n",
              "      <button class=\"colab-df-convert\" onclick=\"convertToInteractive('df-db40d9dd-faee-4b9e-83a3-41c10292d3f8')\"\n",
              "              title=\"Convert this dataframe to an interactive table.\"\n",
              "              style=\"display:none;\">\n",
              "        \n",
              "  <svg xmlns=\"http://www.w3.org/2000/svg\" height=\"24px\"viewBox=\"0 0 24 24\"\n",
              "       width=\"24px\">\n",
              "    <path d=\"M0 0h24v24H0V0z\" fill=\"none\"/>\n",
              "    <path d=\"M18.56 5.44l.94 2.06.94-2.06 2.06-.94-2.06-.94-.94-2.06-.94 2.06-2.06.94zm-11 1L8.5 8.5l.94-2.06 2.06-.94-2.06-.94L8.5 2.5l-.94 2.06-2.06.94zm10 10l.94 2.06.94-2.06 2.06-.94-2.06-.94-.94-2.06-.94 2.06-2.06.94z\"/><path d=\"M17.41 7.96l-1.37-1.37c-.4-.4-.92-.59-1.43-.59-.52 0-1.04.2-1.43.59L10.3 9.45l-7.72 7.72c-.78.78-.78 2.05 0 2.83L4 21.41c.39.39.9.59 1.41.59.51 0 1.02-.2 1.41-.59l7.78-7.78 2.81-2.81c.8-.78.8-2.07 0-2.86zM5.41 20L4 18.59l7.72-7.72 1.47 1.35L5.41 20z\"/>\n",
              "  </svg>\n",
              "      </button>\n",
              "      \n",
              "  <style>\n",
              "    .colab-df-container {\n",
              "      display:flex;\n",
              "      flex-wrap:wrap;\n",
              "      gap: 12px;\n",
              "    }\n",
              "\n",
              "    .colab-df-convert {\n",
              "      background-color: #E8F0FE;\n",
              "      border: none;\n",
              "      border-radius: 50%;\n",
              "      cursor: pointer;\n",
              "      display: none;\n",
              "      fill: #1967D2;\n",
              "      height: 32px;\n",
              "      padding: 0 0 0 0;\n",
              "      width: 32px;\n",
              "    }\n",
              "\n",
              "    .colab-df-convert:hover {\n",
              "      background-color: #E2EBFA;\n",
              "      box-shadow: 0px 1px 2px rgba(60, 64, 67, 0.3), 0px 1px 3px 1px rgba(60, 64, 67, 0.15);\n",
              "      fill: #174EA6;\n",
              "    }\n",
              "\n",
              "    [theme=dark] .colab-df-convert {\n",
              "      background-color: #3B4455;\n",
              "      fill: #D2E3FC;\n",
              "    }\n",
              "\n",
              "    [theme=dark] .colab-df-convert:hover {\n",
              "      background-color: #434B5C;\n",
              "      box-shadow: 0px 1px 3px 1px rgba(0, 0, 0, 0.15);\n",
              "      filter: drop-shadow(0px 1px 2px rgba(0, 0, 0, 0.3));\n",
              "      fill: #FFFFFF;\n",
              "    }\n",
              "  </style>\n",
              "\n",
              "      <script>\n",
              "        const buttonEl =\n",
              "          document.querySelector('#df-db40d9dd-faee-4b9e-83a3-41c10292d3f8 button.colab-df-convert');\n",
              "        buttonEl.style.display =\n",
              "          google.colab.kernel.accessAllowed ? 'block' : 'none';\n",
              "\n",
              "        async function convertToInteractive(key) {\n",
              "          const element = document.querySelector('#df-db40d9dd-faee-4b9e-83a3-41c10292d3f8');\n",
              "          const dataTable =\n",
              "            await google.colab.kernel.invokeFunction('convertToInteractive',\n",
              "                                                     [key], {});\n",
              "          if (!dataTable) return;\n",
              "\n",
              "          const docLinkHtml = 'Like what you see? Visit the ' +\n",
              "            '<a target=\"_blank\" href=https://colab.research.google.com/notebooks/data_table.ipynb>data table notebook</a>'\n",
              "            + ' to learn more about interactive tables.';\n",
              "          element.innerHTML = '';\n",
              "          dataTable['output_type'] = 'display_data';\n",
              "          await google.colab.output.renderOutput(dataTable, element);\n",
              "          const docLink = document.createElement('div');\n",
              "          docLink.innerHTML = docLinkHtml;\n",
              "          element.appendChild(docLink);\n",
              "        }\n",
              "      </script>\n",
              "    </div>\n",
              "  </div>\n",
              "  "
            ],
            "text/plain": [
              "         Construction  ...     Score\n",
              "ID                     ...          \n",
              "it_0        ingeneral  ...  5.385794\n",
              "it_1       particular  ...  5.385794\n",
              "it_2     comparatives  ...  5.385794\n",
              "it_3           andtoo  ...  5.385794\n",
              "it_4        ingeneral  ...  5.385794\n",
              "...               ...  ...       ...\n",
              "it_1004  comparatives  ...  5.385794\n",
              "it_1005        unlike  ...  5.385794\n",
              "it_1006  comparatives  ...  5.385794\n",
              "it_1007        andtoo  ...  5.385794\n",
              "it_1008    particular  ...  5.385794\n",
              "\n",
              "[1009 rows x 4 columns]"
            ]
          },
          "metadata": {},
          "execution_count": 37
        }
      ]
    },
    {
      "cell_type": "code",
      "source": [
        ""
      ],
      "metadata": {
        "id": "bjyJtXVInhEb"
      },
      "execution_count": 37,
      "outputs": []
    },
    {
      "cell_type": "markdown",
      "source": [
        "## Call best model and Save best output Italian"
      ],
      "metadata": {
        "id": "TlzGjEn9nhbc"
      }
    },
    {
      "cell_type": "code",
      "source": [
        "classifiers=['svm','knr','dt','lr']\n",
        "max_rho=(float('-inf'),\"\")"
      ],
      "metadata": {
        "id": "OYGSh18FiyYM"
      },
      "execution_count": 38,
      "outputs": []
    },
    {
      "cell_type": "code",
      "source": [
        "for classifier in classifiers:\n",
        "  results,scores=use(df_it_train,df_it_test,classifier)\n",
        "  print('Italian results on model--USE--->',classifier)\n",
        "  print(results)"
      ],
      "metadata": {
        "id": "J6JZL_vaiyYM"
      },
      "execution_count": null,
      "outputs": []
    },
    {
      "cell_type": "code",
      "source": [
        "for ngram in range(2,5):  \n",
        "  for classifier in classifiers:\n",
        "    results,scores=tfidf(df_it_train,df_it_test,classifier,ngram)\n",
        "    print('Italian results on model--TF-IDF--->',classifier,' --> n grams:  ',ngram)\n",
        "    print(results)"
      ],
      "metadata": {
        "id": "b4HKO6tciyYN"
      },
      "execution_count": null,
      "outputs": []
    },
    {
      "cell_type": "code",
      "source": [
        "it_results,it_scores=use(df_it_train,df_it_test,'svm')\n",
        "it_results"
      ],
      "metadata": {
        "id": "OBaQjvR_nhbd"
      },
      "execution_count": null,
      "outputs": []
    },
    {
      "cell_type": "code",
      "source": [
        "df_it_test['Score']=it_scores\n",
        "del df_it_test['Sentence_emb']\n",
        "df_it_test"
      ],
      "metadata": {
        "id": "v_lpSPSUnhbd"
      },
      "execution_count": null,
      "outputs": []
    },
    {
      "cell_type": "code",
      "source": [
        "df_it_test.to_csv('answer_it_with_sent.csv') \n",
        "files.download('answer_it_with_sent.csv')"
      ],
      "metadata": {
        "id": "TCtdyEmZnhbd"
      },
      "execution_count": null,
      "outputs": []
    },
    {
      "cell_type": "markdown",
      "source": [
        "# Concat All best_outputs for 3 langs"
      ],
      "metadata": {
        "id": "Dz4UIyVrP8bJ"
      }
    },
    {
      "cell_type": "code",
      "source": [
        "df_en_test"
      ],
      "metadata": {
        "id": "tnGVjxzyltFA"
      },
      "execution_count": null,
      "outputs": []
    },
    {
      "cell_type": "code",
      "source": [
        "del df_en_test['Sentence']\n",
        "df_en_test"
      ],
      "metadata": {
        "id": "5aWcwayplrka"
      },
      "execution_count": null,
      "outputs": []
    },
    {
      "cell_type": "code",
      "source": [
        "df_en_test.to_csv('answer_en.csv') \n",
        "files.download('answer_en.csv')"
      ],
      "metadata": {
        "id": "KkVqtvjQlmas"
      },
      "execution_count": null,
      "outputs": []
    },
    {
      "cell_type": "code",
      "source": [
        "df_fr_test"
      ],
      "metadata": {
        "id": "9jcesPWBly9Y"
      },
      "execution_count": null,
      "outputs": []
    },
    {
      "cell_type": "code",
      "source": [
        "del df_fr_test['Sentence']\n",
        "df_fr_test"
      ],
      "metadata": {
        "id": "pzLdQt0Uly9Y"
      },
      "execution_count": null,
      "outputs": []
    },
    {
      "cell_type": "code",
      "source": [
        "df_fr_test.to_csv('answer_fr.csv') \n",
        "files.download('answer_fr.csv')"
      ],
      "metadata": {
        "id": "LY3qxtOXly9Z"
      },
      "execution_count": null,
      "outputs": []
    },
    {
      "cell_type": "code",
      "source": [
        "df_it_test"
      ],
      "metadata": {
        "id": "rR_Q26Sjlzt0"
      },
      "execution_count": null,
      "outputs": []
    },
    {
      "cell_type": "code",
      "source": [
        "del df_it_test['Sentence']\n",
        "df_it_test"
      ],
      "metadata": {
        "id": "OAp64kKWlzt0"
      },
      "execution_count": null,
      "outputs": []
    },
    {
      "cell_type": "code",
      "source": [
        "df_it_test.to_csv('answer_it.csv') \n",
        "files.download('answer_it.csv')"
      ],
      "metadata": {
        "id": "SoJ3ZuQelzt0"
      },
      "execution_count": null,
      "outputs": []
    }
  ]
}